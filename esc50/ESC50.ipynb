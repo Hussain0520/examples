{
 "cells": [
  {
   "cell_type": "markdown",
   "metadata": {
    "id": "mC0gCXlAi8yE"
   },
   "source": [
    "# Installing Hub"
   ]
  },
  {
   "cell_type": "code",
   "execution_count": null,
   "metadata": {
    "colab": {
     "base_uri": "https://localhost:8080/"
    },
    "id": "u-xVVaAiiCAt",
    "outputId": "e616472d-d672-4a83-a8af-2f1279bde38a"
   },
   "outputs": [
    {
     "name": "stdout",
     "output_type": "stream",
     "text": [
      "\u001b[K     |████████████████████████████████| 261 kB 8.6 MB/s \n",
      "\u001b[K     |████████████████████████████████| 131 kB 60.1 MB/s \n",
      "\u001b[K     |████████████████████████████████| 1.8 MB 47.2 MB/s \n",
      "\u001b[K     |████████████████████████████████| 81 kB 7.0 MB/s \n",
      "\u001b[K     |████████████████████████████████| 5.8 MB 54.3 MB/s \n",
      "\u001b[K     |████████████████████████████████| 105 kB 46.6 MB/s \n",
      "\u001b[K     |████████████████████████████████| 55 kB 3.7 MB/s \n",
      "\u001b[K     |████████████████████████████████| 551 kB 73.0 MB/s \n",
      "\u001b[K     |████████████████████████████████| 256 kB 73.4 MB/s \n",
      "\u001b[K     |████████████████████████████████| 152 kB 67.6 MB/s \n",
      "\u001b[K     |████████████████████████████████| 3.0 MB 43.2 MB/s \n",
      "\u001b[K     |████████████████████████████████| 75 kB 4.5 MB/s \n",
      "\u001b[K     |████████████████████████████████| 111 kB 47.1 MB/s \n",
      "\u001b[K     |████████████████████████████████| 8.5 MB 43.4 MB/s \n",
      "\u001b[K     |████████████████████████████████| 79 kB 7.6 MB/s \n",
      "\u001b[K     |████████████████████████████████| 127 kB 74.6 MB/s \n",
      "\u001b[K     |████████████████████████████████| 41 kB 412 kB/s \n",
      "\u001b[K     |████████████████████████████████| 85 kB 4.1 MB/s \n",
      "\u001b[K     |████████████████████████████████| 40 kB 5.3 MB/s \n",
      "\u001b[K     |████████████████████████████████| 58 kB 5.8 MB/s \n",
      "\u001b[K     |████████████████████████████████| 56 kB 4.1 MB/s \n",
      "\u001b[K     |████████████████████████████████| 341 kB 76.5 MB/s \n",
      "\u001b[K     |████████████████████████████████| 85 kB 3.9 MB/s \n"
     ]
    }
   ],
   "source": [
    "!pip3 install hub --quiet\n",
    "import os \n",
    "os.kill(os.getpid(), 9) "
   ]
  },
  {
   "cell_type": "markdown",
   "metadata": {
    "id": "FRrwjp8XjDUV"
   },
   "source": [
    "# Download raw dataset"
   ]
  },
  {
   "cell_type": "code",
   "execution_count": 1,
   "metadata": {
    "id": "CLY2HM6djBc1"
   },
   "outputs": [],
   "source": [
    "from IPython.display import clear_output"
   ]
  },
  {
   "cell_type": "code",
   "execution_count": null,
   "metadata": {
    "id": "8l1NYRCQjXCd"
   },
   "outputs": [],
   "source": [
    "# Download Dataset here\n",
    "!wget https://github.com/karoldvl/ESC-50/archive/master.zip\n",
    "!unzip master.zip\n",
    "clear_output()"
   ]
  },
  {
   "cell_type": "code",
   "execution_count": 35,
   "metadata": {
    "id": "funZY-1Jjojg"
   },
   "outputs": [],
   "source": [
    "import hub\n",
    "from PIL import Image \n",
    "import numpy as np \n",
    "import os\n",
    "import pandas as pd\n",
    "from matplotlib import pyplot as plt\n",
    "from glob import glob\n",
    "import time\n",
    "from tqdm import tqdm"
   ]
  },
  {
   "cell_type": "code",
   "execution_count": 6,
   "metadata": {
    "cellView": "form",
    "colab": {
     "base_uri": "https://localhost:8080/"
    },
    "executionInfo": {
     "elapsed": 2838,
     "status": "ok",
     "timestamp": 1642684499234,
     "user": {
      "displayName": "Sai Nikhilesh Reddy",
      "photoUrl": "https://lh3.googleusercontent.com/a-/AOh14GhTXStT1Z7zWHNhGLNiNGZF2EiZKAd20-qiMdDd6Q=s64",
      "userId": "18205205582489075616"
     },
     "user_tz": -330
    },
    "id": "e_uTH7uVjRik",
    "outputId": "9a3162a4-500d-47fa-a09c-ead7492bb394"
   },
   "outputs": [
    {
     "name": "stdout",
     "output_type": "stream",
     "text": [
      "env: BUGGER_OFF=True\n",
      "Successfully logged in to Activeloop.\n"
     ]
    }
   ],
   "source": [
    "#@title Login to ActiveLoop\n",
    "\n",
    "%env BUGGER_OFF=True\n",
    "!activeloop login -u username -p password\n",
    "!activeloop reporting --off"
   ]
  },
  {
   "cell_type": "markdown",
   "metadata": {
    "id": "1hwvS1vSju5s"
   },
   "source": [
    "# Creating dataset on hub"
   ]
  },
  {
   "cell_type": "markdown",
   "metadata": {
    "id": "ettX_rwmf5fa"
   },
   "source": [
    "**Activeloop API** : https://docs.activeloop.ai/api-basics"
   ]
  },
  {
   "cell_type": "code",
   "execution_count": 7,
   "metadata": {
    "id": "5LXm8-8PoC0d"
   },
   "outputs": [
    {
     "name": "stdout",
     "output_type": "stream",
     "text": [
      "ActiveloopTemplate.ipynb  ESC-50-master  master.zip\r\n"
     ]
    }
   ],
   "source": [
    "!ls"
   ]
  },
  {
   "cell_type": "code",
   "execution_count": 8,
   "metadata": {},
   "outputs": [],
   "source": [
    "basepath = 'ESC-50-master'"
   ]
  },
  {
   "cell_type": "code",
   "execution_count": 9,
   "metadata": {},
   "outputs": [],
   "source": [
    "df = pd.read_csv(os.path.join(basepath, 'meta', 'esc50.csv'))"
   ]
  },
  {
   "cell_type": "code",
   "execution_count": 11,
   "metadata": {},
   "outputs": [
    {
     "data": {
      "text/plain": [
       "filename    1-100032-A-0.wav\n",
       "fold                       1\n",
       "target                     0\n",
       "category                 dog\n",
       "esc10                   True\n",
       "src_file              100032\n",
       "take                       A\n",
       "Name: 0, dtype: object"
      ]
     },
     "execution_count": 11,
     "metadata": {},
     "output_type": "execute_result"
    }
   ],
   "source": [
    "df.iloc[0]"
   ]
  },
  {
   "cell_type": "code",
   "execution_count": 19,
   "metadata": {},
   "outputs": [],
   "source": [
    "class_names = df.category.unique().tolist()"
   ]
  },
  {
   "cell_type": "code",
   "execution_count": 37,
   "metadata": {},
   "outputs": [
    {
     "name": "stdout",
     "output_type": "stream",
     "text": [
      "Your Hub dataset has been successfully created!\n",
      "The dataset is private so make sure you are logged in!\n",
      "This dataset can be visualized at https://app.activeloop.ai/activeloop/esc50.\n"
     ]
    },
    {
     "name": "stderr",
     "output_type": "stream",
     "text": [
      "2000it [23:04,  1.44it/s]\n"
     ]
    },
    {
     "name": "stdout",
     "output_type": "stream",
     "text": [
      "Time elapsed : 1899.3558781147003\n"
     ]
    }
   ],
   "source": [
    "# hubname = './esc50-hub'\n",
    "hubname = 'hub://activeloop/esc50'\n",
    "hub.delete(hubname, large_ok=True)\n",
    "ds = hub.dataset(hubname)\n",
    "\n",
    "start = time.time()\n",
    "\n",
    "with ds:\n",
    "    ds.create_tensor('audio', htype='audio', sample_compression='wav')\n",
    "    ds.create_tensor('labels', htype='class_label', class_names=class_names)\n",
    "    ds.create_tensor('target')\n",
    "    ds.create_tensor('fold')\n",
    "    ds.create_tensor('esc10')\n",
    "    ds.create_tensor('src_file', htype='text')\n",
    "    ds.create_tensor('take', htype='text')\n",
    "    \n",
    "    audio_folder = os.path.join(basepath, 'audio')\n",
    "    \n",
    "    for index, row in tqdm(df.iterrows()):\n",
    "        # print(f\"[{index}] | {row['filename']}\")\n",
    "        audio_path = os.path.join(audio_folder, row['filename'])\n",
    "        \n",
    "        ds.append({\n",
    "            'audio' : hub.read(audio_path),\n",
    "            'labels' : class_names.index(row['category']),\n",
    "            'target' : row['target'],\n",
    "            'fold' : row['fold'],\n",
    "            'esc10' : row['esc10'],\n",
    "            'src_file' : str(row['src_file']),\n",
    "            'take' : row['take']\n",
    "        })\n",
    "        \n",
    "stop = time.time()\n",
    "print(f'Time elapsed : {stop - start}')"
   ]
  }
 ],
 "metadata": {
  "colab": {
   "authorship_tag": "ABX9TyPRtRKYoZyINDugYEwpxgWl",
   "collapsed_sections": [
    "mC0gCXlAi8yE"
   ],
   "name": "ActiveloopTemplate.ipynb",
   "provenance": [
    {
     "file_id": "1NIomaSCaYU8ybW25iYdu4LPt6hk3EnWx",
     "timestamp": 1642685098551
    },
    {
     "file_id": "12DjUWV1eftkzHUGDv9WMdYN2wn3wKByu",
     "timestamp": 1640195333679
    }
   ]
  },
  "kernelspec": {
   "display_name": "Python 3 (ipykernel)",
   "language": "python",
   "name": "python3"
  },
  "language_info": {
   "codemirror_mode": {
    "name": "ipython",
    "version": 3
   },
   "file_extension": ".py",
   "mimetype": "text/x-python",
   "name": "python",
   "nbconvert_exporter": "python",
   "pygments_lexer": "ipython3",
   "version": "3.8.10"
  }
 },
 "nbformat": 4,
 "nbformat_minor": 1
}
