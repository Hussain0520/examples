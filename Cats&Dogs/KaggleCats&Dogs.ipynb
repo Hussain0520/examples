{
 "cells": [
  {
   "cell_type": "markdown",
   "metadata": {
    "id": "mC0gCXlAi8yE"
   },
   "source": [
    "# Installing Hub"
   ]
  },
  {
   "cell_type": "code",
   "execution_count": null,
   "metadata": {
    "colab": {
     "base_uri": "https://localhost:8080/"
    },
    "id": "u-xVVaAiiCAt",
    "outputId": "e616472d-d672-4a83-a8af-2f1279bde38a"
   },
   "outputs": [],
   "source": [
    "!pip3 install hub --quiet\n",
    "\n",
    "# Run below cells and restart the runtime\n",
    "# if you are running it in colab\n",
    "# import os\n",
    "# os.kill(os.getpid(), 9) "
   ]
  },
  {
   "cell_type": "markdown",
   "metadata": {
    "id": "FRrwjp8XjDUV"
   },
   "source": [
    "# Download raw dataset"
   ]
  },
  {
   "cell_type": "code",
   "execution_count": 1,
   "metadata": {
    "id": "CLY2HM6djBc1"
   },
   "outputs": [],
   "source": [
    "from IPython.display import clear_output"
   ]
  },
  {
   "cell_type": "code",
   "execution_count": 15,
   "metadata": {
    "id": "funZY-1Jjojg"
   },
   "outputs": [],
   "source": [
    "import os\n",
    "from glob import glob\n",
    "from PIL import UnidentifiedImageError\n",
    "from hub.util.exceptions import SampleCompressionError"
   ]
  },
  {
   "cell_type": "code",
   "execution_count": 3,
   "metadata": {
    "id": "8l1NYRCQjXCd"
   },
   "outputs": [],
   "source": [
    "!wget https://download.microsoft.com/download/3/E/1/3E1C3F21-ECDB-4869-8368-6DEBA77B919F/kagglecatsanddogs_3367a.zip\n",
    "!unzip kagglecatsanddogs_3367a.zip\n",
    "clear_output()"
   ]
  },
  {
   "cell_type": "markdown",
   "metadata": {
    "id": "1hwvS1vSju5s"
   },
   "source": [
    "# Creating dataset on hub"
   ]
  },
  {
   "cell_type": "markdown",
   "metadata": {
    "id": "ettX_rwmf5fa"
   },
   "source": [
    "**Activeloop API** : https://docs.activeloop.ai/api-basics"
   ]
  },
  {
   "cell_type": "code",
   "execution_count": 3,
   "metadata": {},
   "outputs": [],
   "source": [
    "import hub"
   ]
  },
  {
   "cell_type": "code",
   "execution_count": 4,
   "metadata": {
    "cellView": "form",
    "colab": {
     "base_uri": "https://localhost:8080/"
    },
    "id": "e_uTH7uVjRik",
    "outputId": "9a3162a4-500d-47fa-a09c-ead7492bb394"
   },
   "outputs": [
    {
     "name": "stdout",
     "output_type": "stream",
     "text": [
      "env: BUGGER_OFF=True\n",
      "Successfully logged in to Activeloop.\n"
     ]
    }
   ],
   "source": [
    "# Login to ActiveLoop\n",
    "\n",
    "%env BUGGER_OFF=True\n",
    "!activeloop login -u username -p password\n",
    "!activeloop reporting --off"
   ]
  },
  {
   "cell_type": "code",
   "execution_count": 5,
   "metadata": {
    "id": "5LXm8-8PoC0d"
   },
   "outputs": [],
   "source": [
    "base_path = 'PetImages'"
   ]
  },
  {
   "cell_type": "code",
   "execution_count": null,
   "metadata": {
    "colab": {
     "base_uri": "https://localhost:8080/"
    },
    "id": "ZCceHbEGoFmi",
    "outputId": "b9a732fe-b37f-4c20-830c-dc71e2e39627"
   },
   "outputs": [
    {
     "name": "stdout",
     "output_type": "stream",
     "text": [
      "Your Hub dataset has been successfully created!\n",
      "The dataset is private so make sure you are logged in!\n",
      "This dataset can be visualized at https://app.activeloop.ai/activeloop/kaggle-cats-dogs.\n",
      "Image Error -> PetImages/Cat/666.jpg\n",
      "Image Error -> PetImages/Dog/11702.jpg\n",
      "Compression Issue -> PetImages/Dog/11285.jpg\n",
      "Compression Issue -> PetImages/Dog/7514.jpg\n"
     ]
    }
   ],
   "source": [
    "hubname = 'hub://activeloop/kaggle-cats-dogs'\n",
    "hub.delete(hubname)\n",
    "ds = hub.dataset(hubname)\n",
    "\n",
    "class_labels = ['Cat', 'Dog']\n",
    "with ds:\n",
    "\n",
    "    ds.create_tensor('images', htype='image', sample_compression='jpg')\n",
    "    ds.create_tensor('labels', htype='class_label', class_names=class_labels)\n",
    "\n",
    "    for index, label in enumerate(class_labels):\n",
    "        files = glob(os.path.join(base_path, label, '*.jpg'))\n",
    "        for path in files:\n",
    "            try:\n",
    "                ds.images.append(hub.read(path))\n",
    "                ds.labels.append(index)\n",
    "            except UnidentifiedImageError:\n",
    "                print('Image Error ->', path)\n",
    "            except SampleCompressionError:\n",
    "                print('Compression Issue ->', path)"
   ]
  }
 ],
 "metadata": {
  "colab": {
   "authorship_tag": "ABX9TyOLeuym1nIVJADmMk1HRBg4",
   "collapsed_sections": [
    "mC0gCXlAi8yE"
   ],
   "include_colab_link": true,
   "name": "KaggleCats&Dogs.ipynb",
   "provenance": []
  },
  "kernelspec": {
   "display_name": "Python 3 (ipykernel)",
   "language": "python",
   "name": "python3"
  },
  "language_info": {
   "codemirror_mode": {
    "name": "ipython",
    "version": 3
   },
   "file_extension": ".py",
   "mimetype": "text/x-python",
   "name": "python",
   "nbconvert_exporter": "python",
   "pygments_lexer": "ipython3",
   "version": "3.8.10"
  }
 },
 "nbformat": 4,
 "nbformat_minor": 4
}
