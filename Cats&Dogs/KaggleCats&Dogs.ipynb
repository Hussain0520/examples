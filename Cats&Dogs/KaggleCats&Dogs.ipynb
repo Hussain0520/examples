{
  "cells": [
    {
      "cell_type": "markdown",
      "metadata": {
        "id": "mC0gCXlAi8yE"
      },
      "source": [
        "# Installing Hub"
      ]
    },
    {
      "cell_type": "code",
      "execution_count": null,
      "metadata": {
        "colab": {
          "base_uri": "https://localhost:8080/"
        },
        "id": "u-xVVaAiiCAt",
        "outputId": "e616472d-d672-4a83-a8af-2f1279bde38a"
      },
      "outputs": [
        {
          "name": "stdout",
          "output_type": "stream",
          "text": [
            "\u001b[K     |████████████████████████████████| 261 kB 8.6 MB/s \n",
            "\u001b[K     |████████████████████████████████| 131 kB 60.1 MB/s \n",
            "\u001b[K     |████████████████████████████████| 1.8 MB 47.2 MB/s \n",
            "\u001b[K     |████████████████████████████████| 81 kB 7.0 MB/s \n",
            "\u001b[K     |████████████████████████████████| 5.8 MB 54.3 MB/s \n",
            "\u001b[K     |████████████████████████████████| 105 kB 46.6 MB/s \n",
            "\u001b[K     |████████████████████████████████| 55 kB 3.7 MB/s \n",
            "\u001b[K     |████████████████████████████████| 551 kB 73.0 MB/s \n",
            "\u001b[K     |████████████████████████████████| 256 kB 73.4 MB/s \n",
            "\u001b[K     |████████████████████████████████| 152 kB 67.6 MB/s \n",
            "\u001b[K     |████████████████████████████████| 3.0 MB 43.2 MB/s \n",
            "\u001b[K     |████████████████████████████████| 75 kB 4.5 MB/s \n",
            "\u001b[K     |████████████████████████████████| 111 kB 47.1 MB/s \n",
            "\u001b[K     |████████████████████████████████| 8.5 MB 43.4 MB/s \n",
            "\u001b[K     |████████████████████████████████| 79 kB 7.6 MB/s \n",
            "\u001b[K     |████████████████████████████████| 127 kB 74.6 MB/s \n",
            "\u001b[K     |████████████████████████████████| 41 kB 412 kB/s \n",
            "\u001b[K     |████████████████████████████████| 85 kB 4.1 MB/s \n",
            "\u001b[K     |████████████████████████████████| 40 kB 5.3 MB/s \n",
            "\u001b[K     |████████████████████████████████| 58 kB 5.8 MB/s \n",
            "\u001b[K     |████████████████████████████████| 56 kB 4.1 MB/s \n",
            "\u001b[K     |████████████████████████████████| 341 kB 76.5 MB/s \n",
            "\u001b[K     |████████████████████████████████| 85 kB 3.9 MB/s \n"
          ]
        }
      ],
      "source": [
        "!pip3 install hub --quiet\n",
        "import os \n",
        "os.kill(os.getpid(), 9) "
      ]
    },
    {
      "cell_type": "markdown",
      "metadata": {
        "id": "FRrwjp8XjDUV"
      },
      "source": [
        "# Download raw dataset"
      ]
    },
    {
      "cell_type": "code",
      "execution_count": 1,
      "metadata": {
        "id": "CLY2HM6djBc1"
      },
      "outputs": [],
      "source": [
        "from IPython.display import clear_output\n",
        "from google.colab import files"
      ]
    },
    {
      "cell_type": "code",
      "execution_count": 2,
      "metadata": {
        "id": "8l1NYRCQjXCd"
      },
      "outputs": [],
      "source": [
        "!wget https://download.microsoft.com/download/3/E/1/3E1C3F21-ECDB-4869-8368-6DEBA77B919F/kagglecatsanddogs_3367a.zip\n",
        "!unzip kagglecatsanddogs_3367a.zip\n",
        "clear_output()"
      ]
    },
    {
      "cell_type": "code",
      "execution_count": 3,
      "metadata": {
        "id": "funZY-1Jjojg"
      },
      "outputs": [],
      "source": [
        "import hub\n",
        "from PIL import Image \n",
        "import numpy as np \n",
        "import os\n",
        "import pandas as pd\n",
        "from matplotlib import pyplot as plt\n",
        "from glob import glob"
      ]
    },
    {
      "cell_type": "code",
      "execution_count": 4,
      "metadata": {
        "cellView": "form",
        "colab": {
          "base_uri": "https://localhost:8080/"
        },
        "id": "e_uTH7uVjRik",
        "outputId": "9a3162a4-500d-47fa-a09c-ead7492bb394"
      },
      "outputs": [
        {
          "name": "stdout",
          "output_type": "stream",
          "text": [
            "env: BUGGER_OFF=True\n",
            "Successfully logged in to Activeloop.\n"
          ]
        }
      ],
      "source": [
        "#@title Login to ActiveLoop\n",
        "\n",
        "%env BUGGER_OFF=True\n",
        "!activeloop login -u username -p password\n",
        "!activeloop reporting --off"
      ]
    },
    {
      "cell_type": "markdown",
      "metadata": {
        "id": "1hwvS1vSju5s"
      },
      "source": [
        "# Creating dataset on hub"
      ]
    },
    {
      "cell_type": "markdown",
      "metadata": {
        "id": "ettX_rwmf5fa"
      },
      "source": [
        "**Activeloop API** : https://docs.activeloop.ai/api-basics"
      ]
    },
    {
      "cell_type": "code",
      "execution_count": 5,
      "metadata": {
        "id": "5LXm8-8PoC0d"
      },
      "outputs": [],
      "source": [
        "base_path = '/content/PetImages'"
      ]
    },
    {
      "cell_type": "code",
      "execution_count": 22,
      "metadata": {
        "colab": {
          "base_uri": "https://localhost:8080/"
        },
        "id": "ZCceHbEGoFmi",
        "outputId": "b9a732fe-b37f-4c20-830c-dc71e2e39627"
      },
      "outputs": [
        {
          "name": "stdout",
          "output_type": "stream",
          "text": [
            "Your Hub dataset has been successfully created!\n",
            "The dataset is private so make sure you are logged in!\n",
            "This dataset can be visualized at https://app.activeloop.ai/activeloop/kaggle-cats-dogs.\n"
          ]
        },
        {
          "name": "stderr",
          "output_type": "stream",
          "text": [
            "/usr/local/lib/python3.7/dist-packages/hub/core/chunk/base_chunk.py:248: UserWarning: Grayscale images will be reshaped from (H, W) to (H, W, 1) to match tensor dimensions. This warning will be shown only once.\n",
            "  warnings.warn(message)\n"
          ]
        },
        {
          "name": "stdout",
          "output_type": "stream",
          "text": [
            "/content/PetImages/Cat/666.jpg\n",
            "/content/PetImages/Dog/11702.jpg\n",
            "/content/PetImages/Dog/7514.jpg\n",
            "/content/PetImages/Dog/11285.jpg\n"
          ]
        }
      ],
      "source": [
        "hubname = 'hub://activeloop/kaggle-cats-dogs'\n",
        "hub.delete(hubname)\n",
        "ds = hub.dataset(hubname)\n",
        "\n",
        "class_labels = ['Cat', 'Dog']\n",
        "with ds:\n",
        "\n",
        "    ds.create_tensor('images', htype='image', sample_compression='jpg')\n",
        "    ds.create_tensor('labels', htype='class_label', class_names=class_labels)\n",
        "\n",
        "    for index, label in enumerate(class_labels):\n",
        "        path = glob(os.path.join(base_path, label, '*.jpg'))\n",
        "        for id in path:\n",
        "            try:\n",
        "                ds.images.append(hub.read(id))\n",
        "                ds.labels.append(index)\n",
        "            except: \n",
        "                print(id)"
      ]
    },
    {
      "cell_type": "markdown",
      "metadata": {
        "id": "3QgADYRWuyn9"
      },
      "source": [
        "**We have skipped below images, as they were corrupted:**\n",
        "\n",
        "/content/PetImages/Cat/666.jpg <br>\n",
        "/content/PetImages/Dog/11702.jpg <br>\n",
        "/content/PetImages/Dog/7514.jpg <br>\n",
        "/content/PetImages/Dog/11285.jpg <br>"
      ]
    }
  ],
  "metadata": {
    "colab": {
      "authorship_tag": "ABX9TyOLeuym1nIVJADmMk1HRBg4",
      "collapsed_sections": [
        "mC0gCXlAi8yE"
      ],
      "include_colab_link": true,
      "name": "KaggleCats&Dogs.ipynb",
      "provenance": []
    },
    "kernelspec": {
      "display_name": "Python 3",
      "name": "python3"
    },
    "language_info": {
      "name": "python"
    }
  },
  "nbformat": 4,
  "nbformat_minor": 0
}
