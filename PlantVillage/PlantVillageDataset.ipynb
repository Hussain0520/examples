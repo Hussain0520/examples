{
  "cells": [
    {
      "cell_type": "markdown",
      "metadata": {
        "id": "mC0gCXlAi8yE"
      },
      "source": [
        "# Installing Hub"
      ]
    },
    {
      "cell_type": "code",
      "execution_count": null,
      "metadata": {
        "colab": {
          "base_uri": "https://localhost:8080/"
        },
        "id": "u-xVVaAiiCAt",
        "outputId": "1f6be91d-e027-4fc3-ce21-22d1eea9c88f"
      },
      "outputs": [
        {
          "name": "stdout",
          "output_type": "stream",
          "text": [
            "\u001b[?25l\r\u001b[K     |█▎                              | 10 kB 24.8 MB/s eta 0:00:01\r\u001b[K     |██▋                             | 20 kB 28.7 MB/s eta 0:00:01\r\u001b[K     |███▉                            | 30 kB 18.0 MB/s eta 0:00:01\r\u001b[K     |█████▏                          | 40 kB 11.5 MB/s eta 0:00:01\r\u001b[K     |██████▍                         | 51 kB 8.4 MB/s eta 0:00:01\r\u001b[K     |███████▊                        | 61 kB 8.3 MB/s eta 0:00:01\r\u001b[K     |█████████                       | 71 kB 8.0 MB/s eta 0:00:01\r\u001b[K     |██████████▎                     | 81 kB 8.9 MB/s eta 0:00:01\r\u001b[K     |███████████▌                    | 92 kB 8.6 MB/s eta 0:00:01\r\u001b[K     |████████████▉                   | 102 kB 7.7 MB/s eta 0:00:01\r\u001b[K     |██████████████                  | 112 kB 7.7 MB/s eta 0:00:01\r\u001b[K     |███████████████▍                | 122 kB 7.7 MB/s eta 0:00:01\r\u001b[K     |████████████████▊               | 133 kB 7.7 MB/s eta 0:00:01\r\u001b[K     |██████████████████              | 143 kB 7.7 MB/s eta 0:00:01\r\u001b[K     |███████████████████▎            | 153 kB 7.7 MB/s eta 0:00:01\r\u001b[K     |████████████████████▌           | 163 kB 7.7 MB/s eta 0:00:01\r\u001b[K     |█████████████████████▉          | 174 kB 7.7 MB/s eta 0:00:01\r\u001b[K     |███████████████████████         | 184 kB 7.7 MB/s eta 0:00:01\r\u001b[K     |████████████████████████▍       | 194 kB 7.7 MB/s eta 0:00:01\r\u001b[K     |█████████████████████████▋      | 204 kB 7.7 MB/s eta 0:00:01\r\u001b[K     |███████████████████████████     | 215 kB 7.7 MB/s eta 0:00:01\r\u001b[K     |████████████████████████████▏   | 225 kB 7.7 MB/s eta 0:00:01\r\u001b[K     |█████████████████████████████▌  | 235 kB 7.7 MB/s eta 0:00:01\r\u001b[K     |██████████████████████████████▊ | 245 kB 7.7 MB/s eta 0:00:01\r\u001b[K     |████████████████████████████████| 255 kB 7.7 MB/s \n",
            "\u001b[K     |████████████████████████████████| 152 kB 68.4 MB/s \n",
            "\u001b[K     |████████████████████████████████| 5.8 MB 36.6 MB/s \n",
            "\u001b[K     |████████████████████████████████| 3.0 MB 46.0 MB/s \n",
            "\u001b[K     |████████████████████████████████| 80 kB 8.4 MB/s \n",
            "\u001b[K     |████████████████████████████████| 105 kB 36.7 MB/s \n",
            "\u001b[K     |████████████████████████████████| 55 kB 3.5 MB/s \n",
            "\u001b[K     |████████████████████████████████| 256 kB 77.0 MB/s \n",
            "\u001b[K     |████████████████████████████████| 81 kB 9.6 MB/s \n",
            "\u001b[K     |████████████████████████████████| 551 kB 72.4 MB/s \n",
            "\u001b[K     |████████████████████████████████| 1.8 MB 45.6 MB/s \n",
            "\u001b[K     |████████████████████████████████| 131 kB 49.7 MB/s \n",
            "\u001b[K     |████████████████████████████████| 75 kB 3.7 MB/s \n",
            "\u001b[K     |████████████████████████████████| 109 kB 52.3 MB/s \n",
            "\u001b[K     |████████████████████████████████| 8.5 MB 53.6 MB/s \n",
            "\u001b[K     |████████████████████████████████| 79 kB 7.3 MB/s \n",
            "\u001b[K     |████████████████████████████████| 127 kB 58.3 MB/s \n",
            "\u001b[K     |████████████████████████████████| 41 kB 385 kB/s \n",
            "\u001b[K     |████████████████████████████████| 40 kB 5.1 MB/s \n",
            "\u001b[K     |████████████████████████████████| 57 kB 4.4 MB/s \n",
            "\u001b[K     |████████████████████████████████| 85 kB 3.9 MB/s \n",
            "\u001b[K     |████████████████████████████████| 55 kB 4.0 MB/s \n",
            "\u001b[K     |████████████████████████████████| 84 kB 3.6 MB/s \n",
            "\u001b[K     |████████████████████████████████| 338 kB 72.9 MB/s \n",
            "\u001b[K     |████████████████████████████████| 65 kB 3.5 MB/s \n",
            "\u001b[?25h  Building wheel for hub-shm (setup.py) ... \u001b[?25l\u001b[?25hdone\n",
            "\u001b[31mERROR: pip's dependency resolver does not currently take into account all the packages that are installed. This behaviour is the source of the following dependency conflicts.\n",
            "google-cloud-translate 1.5.0 requires google-api-core[grpc]<2.0.0dev,>=1.6.0, but you have google-api-core 2.3.2 which is incompatible.\n",
            "google-cloud-translate 1.5.0 requires google-cloud-core<2.0dev,>=1.0.0, but you have google-cloud-core 2.2.1 which is incompatible.\n",
            "google-cloud-language 1.2.0 requires google-api-core[grpc]<2.0.0dev,>=1.6.0, but you have google-api-core 2.3.2 which is incompatible.\n",
            "google-cloud-firestore 1.7.0 requires google-api-core[grpc]<2.0.0dev,>=1.14.0, but you have google-api-core 2.3.2 which is incompatible.\n",
            "google-cloud-firestore 1.7.0 requires google-cloud-core<2.0dev,>=1.0.3, but you have google-cloud-core 2.2.1 which is incompatible.\n",
            "google-cloud-datastore 1.8.0 requires google-api-core[grpc]<2.0.0dev,>=1.6.0, but you have google-api-core 2.3.2 which is incompatible.\n",
            "google-cloud-datastore 1.8.0 requires google-cloud-core<2.0dev,>=1.0.0, but you have google-cloud-core 2.2.1 which is incompatible.\n",
            "google-cloud-bigquery 1.21.0 requires google-cloud-core<2.0dev,>=1.0.3, but you have google-cloud-core 2.2.1 which is incompatible.\n",
            "google-cloud-bigquery 1.21.0 requires google-resumable-media!=0.4.0,<0.5.0dev,>=0.3.1, but you have google-resumable-media 2.1.0 which is incompatible.\n",
            "google-cloud-bigquery-storage 1.1.0 requires google-api-core[grpc]<2.0.0dev,>=1.14.0, but you have google-api-core 2.3.2 which is incompatible.\n",
            "google-api-python-client 1.12.8 requires google-api-core<2dev,>=1.21.0, but you have google-api-core 2.3.2 which is incompatible.\n",
            "firebase-admin 4.4.0 requires google-api-core[grpc]<2.0.0dev,>=1.14.0; platform_python_implementation != \"PyPy\", but you have google-api-core 2.3.2 which is incompatible.\n",
            "datascience 0.10.6 requires folium==0.2.1, but you have folium 0.8.3 which is incompatible.\n",
            "albumentations 0.1.12 requires imgaug<0.2.7,>=0.2.5, but you have imgaug 0.2.9 which is incompatible.\u001b[0m\n"
          ]
        }
      ],
      "source": [
        "!pip3 install hub --quiet\n",
        "import os \n",
        "os.kill(os.getpid(), 9) "
      ]
    },
    {
      "cell_type": "markdown",
      "metadata": {
        "id": "FRrwjp8XjDUV"
      },
      "source": [
        "# Download raw dataset"
      ]
    },
    {
      "cell_type": "code",
      "execution_count": 1,
      "metadata": {
        "id": "CLY2HM6djBc1"
      },
      "outputs": [],
      "source": [
        "from IPython.display import clear_output\n",
        "from google.colab import files"
      ]
    },
    {
      "cell_type": "code",
      "execution_count": 2,
      "metadata": {
        "id": "IZz3BL8M6P9n"
      },
      "outputs": [],
      "source": [
        "# Download dataset here\n",
        "!wget https://md-datasets-cache-zipfiles-prod.s3.eu-west-1.amazonaws.com/tywbtsjrjv-1.zip\n",
        "!unzip tywbtsjrjv-1.zip\n",
        "!unzip Plant_leaf_diseases_dataset_with_augmentation.zip  \n",
        "!unzip Plant_leaf_diseases_dataset_without_augmentation.zip  \n",
        "!rm -rf *.zip\n",
        "clear_output()"
      ]
    },
    {
      "cell_type": "code",
      "execution_count": 28,
      "metadata": {
        "id": "funZY-1Jjojg"
      },
      "outputs": [],
      "source": [
        "import hub\n",
        "from PIL import Image \n",
        "import numpy as np \n",
        "import os\n",
        "import pandas as pd\n",
        "from matplotlib import pyplot as plt\n",
        "from glob import glob"
      ]
    },
    {
      "cell_type": "code",
      "execution_count": 4,
      "metadata": {
        "colab": {
          "base_uri": "https://localhost:8080/"
        },
        "id": "e_uTH7uVjRik",
        "outputId": "abc63f3d-175d-4557-bdc1-1db545290088"
      },
      "outputs": [
        {
          "name": "stdout",
          "output_type": "stream",
          "text": [
            "env: BUGGER_OFF=True\n",
            "Successfully logged in to Activeloop.\n"
          ]
        }
      ],
      "source": [
        "#@title Login to ActiveLoop\n",
        "\n",
        "%env BUGGER_OFF=True\n",
        "!activeloop login -u username -p password\n",
        "!activeloop reporting --off"
      ]
    },
    {
      "cell_type": "markdown",
      "metadata": {
        "id": "1hwvS1vSju5s"
      },
      "source": [
        "# Creating dataset on hub"
      ]
    },
    {
      "cell_type": "markdown",
      "metadata": {
        "id": "ettX_rwmf5fa"
      },
      "source": [
        "**Activeloop API** : https://docs.activeloop.ai/api-basics"
      ]
    },
    {
      "cell_type": "code",
      "execution_count": 6,
      "metadata": {
        "id": "NaqbitGs7nWx"
      },
      "outputs": [],
      "source": [
        "change_classes = {\n",
        " 'Peach___healthy' : 'Peach_healthy',\n",
        " 'Strawberry___Leaf_scorch' : 'Strawberry_leaf_scorch',\n",
        " 'Grape___Esca_(Black_Measles)' : 'Grape_black_measles',\n",
        " 'Tomato___Septoria_leaf_spot' : 'Tomato_septoria_leaf_spot',\n",
        " 'Grape___healthy' : 'Grape_healthy',\n",
        " 'Tomato___healthy' : 'Tomato_healthy',\n",
        " 'Peach___Bacterial_spot' : 'Peach_bacterial_spot',\n",
        " 'Corn___Cercospora_leaf_spot Gray_leaf_spot' : 'Corn_gray_leaf_spot',\n",
        " 'Soybean___healthy' : 'Soybean_healthy',\n",
        " 'Corn___Common_rust' : 'Corn_common_rust',\n",
        " 'Blueberry___healthy' : 'Blueberry_healthy',\n",
        " 'Corn___healthy' : 'Corn_healthy',\n",
        " 'Apple___healthy' : 'Apple_healthy',\n",
        " 'Apple___Cedar_apple_rust' : 'Apple_cedar_apple_rust',\n",
        " 'Background_without_leaves' : 'Background_without_leaves',\n",
        " 'Tomato___Target_Spot' : 'Tomato_target_spot',\n",
        " 'Pepper,_bell___healthy' : 'Pepper_healthy',\n",
        " 'Grape___Black_rot' : 'Grape_black_rot',\n",
        " 'Apple___Apple_scab' : 'Apple_scab',\n",
        " 'Raspberry___healthy' : 'Raspberry_healthy',\n",
        " 'Tomato___Early_blight' : 'Tomato_early_blight',\n",
        " 'Tomato___Tomato_Yellow_Leaf_Curl_Virus' : 'Tomato_yellow_leaf_curl_virus',\n",
        " 'Corn___Northern_Leaf_Blight' : 'Corn_northern_leaf_blight',\n",
        " 'Potato___healthy' : 'Potato_healthy',\n",
        " 'Tomato___Late_blight' : 'Tomato_late_blight',\n",
        " 'Cherry___Powdery_mildew' : 'Cherry_powdery_mildew',\n",
        " 'Grape___Leaf_blight_(Isariopsis_Leaf_Spot)' : 'Grape_leaf_blight',\n",
        " 'Tomato___Leaf_Mold' : 'Tomato_leaf_mold',\n",
        " 'Pepper,_bell___Bacterial_spot' : 'Pepper_bacterial_spot',\n",
        " 'Potato___Late_blight' : 'Potato_late_blight',\n",
        " 'Tomato___Tomato_mosaic_virus' : 'Tomato_mosaic_virus',\n",
        " 'Potato___Early_blight' : 'Potato_early_blight',\n",
        " 'Tomato___Bacterial_spot' : 'Tomato_bacterial_spot',\n",
        " 'Strawberry___healthy' : 'Strawberry_healthy',\n",
        " 'Cherry___healthy' : 'Cherry_healthy',\n",
        " 'Squash___Powdery_mildew' : 'Squash_powdery_mildew',\n",
        " 'Tomato___Spider_mites Two-spotted_spider_mite' : 'Tomato_spider_mites_two-spotted_spider_mite',\n",
        " 'Orange___Haunglongbing_(Citrus_greening)' : 'Orange_haunglongbing',\n",
        " 'Apple___Black_rot' : 'Apple_black_rot'\n",
        " }"
      ]
    },
    {
      "cell_type": "code",
      "execution_count": 9,
      "metadata": {
        "colab": {
          "base_uri": "https://localhost:8080/"
        },
        "id": "djf9ImugFDr6",
        "outputId": "e376f88e-5622-43e4-bbad-22de4fea681f"
      },
      "outputs": [
        {
          "name": "stdout",
          "output_type": "stream",
          "text": [
            "folders -> ['Peach___healthy', 'Strawberry___Leaf_scorch', 'Grape___Esca_(Black_Measles)', 'Tomato___Septoria_leaf_spot', 'Grape___healthy', 'Tomato___healthy', 'Peach___Bacterial_spot', 'Corn___Cercospora_leaf_spot Gray_leaf_spot', 'Soybean___healthy', 'Corn___Common_rust', 'Blueberry___healthy', 'Corn___healthy', 'Apple___healthy', 'Apple___Cedar_apple_rust', 'Background_without_leaves', 'Tomato___Target_Spot', 'Pepper,_bell___healthy', 'Grape___Black_rot', 'Apple___Apple_scab', 'Raspberry___healthy', 'Tomato___Early_blight', 'Tomato___Tomato_Yellow_Leaf_Curl_Virus', 'Corn___Northern_Leaf_Blight', 'Potato___healthy', 'Tomato___Late_blight', 'Cherry___Powdery_mildew', 'Grape___Leaf_blight_(Isariopsis_Leaf_Spot)', 'Tomato___Leaf_Mold', 'Pepper,_bell___Bacterial_spot', 'Potato___Late_blight', 'Tomato___Tomato_mosaic_virus', 'Potato___Early_blight', 'Tomato___Bacterial_spot', 'Strawberry___healthy', 'Cherry___healthy', 'Squash___Powdery_mildew', 'Tomato___Spider_mites Two-spotted_spider_mite', 'Orange___Haunglongbing_(Citrus_greening)', 'Apple___Black_rot']\n",
            "classes -> ['Peach_healthy', 'Strawberry_leaf_scorch', 'Grape_black_measles', 'Tomato_septoria_leaf_spot', 'Grape_healthy', 'Tomato_healthy', 'Peach_bacterial_spot', 'Corn_gray_leaf_spot', 'Soybean_healthy', 'Corn_common_rust', 'Blueberry_healthy', 'Corn_healthy', 'Apple_healthy', 'Apple_cedar_apple_rust', 'Background_without_leaves', 'Tomato_target_spot', 'Pepper_healthy', 'Grape_black_rot', 'Apple_scab', 'Raspberry_healthy', 'Tomato_early_blight', 'Tomato_yellow_leaf_curl_virus', 'Corn_northern_leaf_blight', 'Potato_healthy', 'Tomato_late_blight', 'Cherry_powdery_mildew', 'Grape_leaf_blight', 'Tomato_leaf_mold', 'Pepper_bacterial_spot', 'Potato_late_blight', 'Tomato_mosaic_virus', 'Potato_early_blight', 'Tomato_bacterial_spot', 'Strawberry_healthy', 'Cherry_healthy', 'Squash_powdery_mildew', 'Tomato_spider_mites_two-spotted_spider_mite', 'Orange_haunglongbing', 'Apple_black_rot']\n"
          ]
        }
      ],
      "source": [
        "class_names = list(change_classes.values())\n",
        "folders = list(change_classes.keys())\n",
        "print(f'folders -> {folders}')\n",
        "print(f'classes -> {class_names}')"
      ]
    },
    {
      "cell_type": "code",
      "execution_count": 23,
      "metadata": {
        "id": "d5wBlMNUeH7T"
      },
      "outputs": [],
      "source": [
        "without_augmentation = '/content/Plant_leave_diseases_dataset_without_augmentation'\n",
        "with_augmentation = '/content/Plant_leave_diseases_dataset_with_augmentation'"
      ]
    },
    {
      "cell_type": "code",
      "execution_count": 15,
      "metadata": {
        "colab": {
          "base_uri": "https://localhost:8080/"
        },
        "id": "R2vRQL3Jja3P",
        "outputId": "4338852c-7c2c-4ce5-fece-331e4c15761a"
      },
      "outputs": [
        {
          "data": {
            "text/plain": [
              "5"
            ]
          },
          "execution_count": 15,
          "metadata": {},
          "output_type": "execute_result"
        }
      ],
      "source": [
        "class_names.index('Tomato_healthy')"
      ]
    },
    {
      "cell_type": "code",
      "execution_count": 38,
      "metadata": {
        "colab": {
          "base_uri": "https://localhost:8080/"
        },
        "id": "vm9NC193ja7V",
        "outputId": "033f4a55-d06f-44ac-a308-563035ca63b8"
      },
      "outputs": [
        {
          "name": "stdout",
          "output_type": "stream",
          "text": [
            "Your Hub dataset has been successfully created!\n",
            "The dataset is private so make sure you are logged in!\n",
            "This dataset can be visualized at https://app.activeloop.ai/activeloop/plantvillage-without-augmentation.\n",
            "Peach___healthy -> Peach_healthy -> 0\n",
            "Strawberry___Leaf_scorch -> Strawberry_leaf_scorch -> 1\n",
            "Grape___Esca_(Black_Measles) -> Grape_black_measles -> 2\n",
            "Tomato___Septoria_leaf_spot -> Tomato_septoria_leaf_spot -> 3\n",
            "Grape___healthy -> Grape_healthy -> 4\n",
            "Tomato___healthy -> Tomato_healthy -> 5\n",
            "Peach___Bacterial_spot -> Peach_bacterial_spot -> 6\n",
            "Corn___Cercospora_leaf_spot Gray_leaf_spot -> Corn_gray_leaf_spot -> 7\n",
            "Soybean___healthy -> Soybean_healthy -> 8\n",
            "Corn___Common_rust -> Corn_common_rust -> 9\n",
            "Blueberry___healthy -> Blueberry_healthy -> 10\n",
            "Corn___healthy -> Corn_healthy -> 11\n",
            "Apple___healthy -> Apple_healthy -> 12\n",
            "Apple___Cedar_apple_rust -> Apple_cedar_apple_rust -> 13\n",
            "Background_without_leaves -> Background_without_leaves -> 14\n",
            "Tomato___Target_Spot -> Tomato_target_spot -> 15\n",
            "Pepper,_bell___healthy -> Pepper_healthy -> 16\n",
            "Grape___Black_rot -> Grape_black_rot -> 17\n",
            "Apple___Apple_scab -> Apple_scab -> 18\n",
            "Raspberry___healthy -> Raspberry_healthy -> 19\n",
            "Tomato___Early_blight -> Tomato_early_blight -> 20\n",
            "Tomato___Tomato_Yellow_Leaf_Curl_Virus -> Tomato_yellow_leaf_curl_virus -> 21\n",
            "Corn___Northern_Leaf_Blight -> Corn_northern_leaf_blight -> 22\n",
            "Potato___healthy -> Potato_healthy -> 23\n",
            "Tomato___Late_blight -> Tomato_late_blight -> 24\n",
            "Cherry___Powdery_mildew -> Cherry_powdery_mildew -> 25\n",
            "Grape___Leaf_blight_(Isariopsis_Leaf_Spot) -> Grape_leaf_blight -> 26\n",
            "Tomato___Leaf_Mold -> Tomato_leaf_mold -> 27\n",
            "Pepper,_bell___Bacterial_spot -> Pepper_bacterial_spot -> 28\n",
            "Potato___Late_blight -> Potato_late_blight -> 29\n",
            "Tomato___Tomato_mosaic_virus -> Tomato_mosaic_virus -> 30\n",
            "Potato___Early_blight -> Potato_early_blight -> 31\n",
            "Tomato___Bacterial_spot -> Tomato_bacterial_spot -> 32\n",
            "Strawberry___healthy -> Strawberry_healthy -> 33\n",
            "Cherry___healthy -> Cherry_healthy -> 34\n",
            "Squash___Powdery_mildew -> Squash_powdery_mildew -> 35\n",
            "Tomato___Spider_mites Two-spotted_spider_mite -> Tomato_spider_mites_two-spotted_spider_mite -> 36\n",
            "Orange___Haunglongbing_(Citrus_greening) -> Orange_haunglongbing -> 37\n",
            "Apple___Black_rot -> Apple_black_rot -> 38\n"
          ]
        }
      ],
      "source": [
        "filename_path = 'hub://activeloop/plantvillage-without-augmentation'\n",
        "# hub.delete(filename_path, large_ok=True)\n",
        "ds = hub.dataset(filename_path)\n",
        "\n",
        "with ds:\n",
        "    ds.create_tensor('images', htype='image', sample_compression='jpg')\n",
        "    ds.create_tensor('labels', htype='class_label', class_names = class_names)\n",
        "\n",
        "    for folder in folders:\n",
        "        path = os.path.join(without_augmentation, folder)\n",
        "        label = change_classes[folder]\n",
        "        label_index = class_names.index(label) \n",
        "\n",
        "        images = glob(os.path.join(path, '*.JPG'))\n",
        "        print(f'{folder} -> {label} -> {label_index}')\n",
        "        \n",
        "        for image in images:\n",
        "            ds.images.append(hub.read(image))\n",
        "            ds.labels.append(label_index)"
      ]
    },
    {
      "cell_type": "code",
      "execution_count": 41,
      "metadata": {
        "colab": {
          "base_uri": "https://localhost:8080/"
        },
        "id": "iBK42LZFm5oy",
        "outputId": "5741ab3d-342a-47c7-f7fa-512dbd311a73"
      },
      "outputs": [
        {
          "name": "stdout",
          "output_type": "stream",
          "text": [
            "Your Hub dataset has been successfully created!\n",
            "The dataset is private so make sure you are logged in!\n",
            "This dataset can be visualized at https://app.activeloop.ai/activeloop/plantvillage-with-augmentation.\n",
            "Peach___healthy -> Peach_healthy -> 0\n",
            "Strawberry___Leaf_scorch -> Strawberry_leaf_scorch -> 1\n",
            "Grape___Esca_(Black_Measles) -> Grape_black_measles -> 2\n",
            "Tomato___Septoria_leaf_spot -> Tomato_septoria_leaf_spot -> 3\n",
            "Grape___healthy -> Grape_healthy -> 4\n",
            "Tomato___healthy -> Tomato_healthy -> 5\n",
            "Peach___Bacterial_spot -> Peach_bacterial_spot -> 6\n",
            "Corn___Cercospora_leaf_spot Gray_leaf_spot -> Corn_gray_leaf_spot -> 7\n",
            "Soybean___healthy -> Soybean_healthy -> 8\n",
            "Corn___Common_rust -> Corn_common_rust -> 9\n",
            "Blueberry___healthy -> Blueberry_healthy -> 10\n",
            "Corn___healthy -> Corn_healthy -> 11\n",
            "Apple___healthy -> Apple_healthy -> 12\n",
            "Apple___Cedar_apple_rust -> Apple_cedar_apple_rust -> 13\n",
            "Background_without_leaves -> Background_without_leaves -> 14\n",
            "Tomato___Target_Spot -> Tomato_target_spot -> 15\n",
            "Pepper,_bell___healthy -> Pepper_healthy -> 16\n",
            "Grape___Black_rot -> Grape_black_rot -> 17\n",
            "Apple___Apple_scab -> Apple_scab -> 18\n",
            "Raspberry___healthy -> Raspberry_healthy -> 19\n",
            "Tomato___Early_blight -> Tomato_early_blight -> 20\n",
            "Tomato___Tomato_Yellow_Leaf_Curl_Virus -> Tomato_yellow_leaf_curl_virus -> 21\n",
            "Corn___Northern_Leaf_Blight -> Corn_northern_leaf_blight -> 22\n",
            "Potato___healthy -> Potato_healthy -> 23\n",
            "Tomato___Late_blight -> Tomato_late_blight -> 24\n",
            "Cherry___Powdery_mildew -> Cherry_powdery_mildew -> 25\n",
            "Grape___Leaf_blight_(Isariopsis_Leaf_Spot) -> Grape_leaf_blight -> 26\n",
            "Tomato___Leaf_Mold -> Tomato_leaf_mold -> 27\n",
            "Pepper,_bell___Bacterial_spot -> Pepper_bacterial_spot -> 28\n",
            "Potato___Late_blight -> Potato_late_blight -> 29\n",
            "Tomato___Tomato_mosaic_virus -> Tomato_mosaic_virus -> 30\n",
            "Potato___Early_blight -> Potato_early_blight -> 31\n",
            "Tomato___Bacterial_spot -> Tomato_bacterial_spot -> 32\n",
            "Strawberry___healthy -> Strawberry_healthy -> 33\n",
            "Cherry___healthy -> Cherry_healthy -> 34\n",
            "Squash___Powdery_mildew -> Squash_powdery_mildew -> 35\n",
            "Tomato___Spider_mites Two-spotted_spider_mite -> Tomato_spider_mites_two-spotted_spider_mite -> 36\n",
            "Orange___Haunglongbing_(Citrus_greening) -> Orange_haunglongbing -> 37\n",
            "Apple___Black_rot -> Apple_black_rot -> 38\n"
          ]
        }
      ],
      "source": [
        "filename_path = 'hub://activeloop/plantvillage-with-augmentation'\n",
        "# hub.delete(filename_path, large_ok=True)\n",
        "ds = hub.dataset(filename_path)\n",
        "\n",
        "with ds:\n",
        "    ds.create_tensor('images', htype='image', sample_compression='jpg')\n",
        "    ds.create_tensor('labels', htype='class_label', class_names = class_names)\n",
        "\n",
        "    for folder in folders:\n",
        "        path = os.path.join(with_augmentation, folder)\n",
        "        label = change_classes[folder]\n",
        "        label_index = class_names.index(label) \n",
        "\n",
        "        images = glob(os.path.join(path, '*.JPG'))\n",
        "        print(f'{folder} -> {label} -> {label_index}')\n",
        "        \n",
        "        for image in images:\n",
        "            ds.images.append(hub.read(image))\n",
        "            ds.labels.append(label_index)"
      ]
    },
    {
      "cell_type": "markdown",
      "metadata": {
        "id": "VNqKHwxaGlE-"
      },
      "source": [
        "# Testing dataset from Hub"
      ]
    },
    {
      "cell_type": "code",
      "execution_count": 42,
      "metadata": {
        "colab": {
          "base_uri": "https://localhost:8080/"
        },
        "id": "Qj6catLfDeXN",
        "outputId": "3917e42f-8367-4292-828a-e047885d4487"
      },
      "outputs": [
        {
          "name": "stdout",
          "output_type": "stream",
          "text": [
            "hub://activeloop/plantvillage-with-augmentation loaded successfully.\n",
            "This dataset can be visualized at https://app.activeloop.ai/activeloop/plantvillage-with-augmentation.\n"
          ]
        }
      ],
      "source": [
        "filename_path = 'hub://activeloop/plantvillage-with-augmentation'\n",
        "ds = hub.dataset(filename_path)"
      ]
    },
    {
      "cell_type": "code",
      "execution_count": 47,
      "metadata": {
        "id": "21raFhdsvJay"
      },
      "outputs": [],
      "source": [
        "index = 5\n",
        "image = ds.images[index].numpy()\n",
        "label = ds.labels[index].data()"
      ]
    }
  ],
  "metadata": {
    "colab": {
      "authorship_tag": "ABX9TyPnjyyoThDT6zjnoQ12I1jA",
      "collapsed_sections": [
        "mC0gCXlAi8yE",
        "FRrwjp8XjDUV"
      ],
      "include_colab_link": true,
      "name": "PlantVillageDataset.ipynb",
      "provenance": []
    },
    "kernelspec": {
      "display_name": "Python 3",
      "name": "python3"
    },
    "language_info": {
      "name": "python"
    }
  },
  "nbformat": 4,
  "nbformat_minor": 0
}
