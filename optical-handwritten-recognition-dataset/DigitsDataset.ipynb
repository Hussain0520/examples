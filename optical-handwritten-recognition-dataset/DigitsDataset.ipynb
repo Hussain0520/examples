{
 "cells": [
  {
   "cell_type": "markdown",
   "metadata": {
    "id": "mC0gCXlAi8yE"
   },
   "source": [
    "# Installing Hub"
   ]
  },
  {
   "cell_type": "code",
   "execution_count": null,
   "metadata": {
    "colab": {
     "base_uri": "https://localhost:8080/"
    },
    "id": "u-xVVaAiiCAt",
    "outputId": "9c936232-c6a1-4aef-c289-bfa6fc4dac64"
   },
   "outputs": [],
   "source": [
    "!pip3 install hub --quiet\n",
    "\n",
    "# Run below cells and restart the runtime\n",
    "# if you are running it in colab\n",
    "# import os\n",
    "# os.kill(os.getpid(), 9) "
   ]
  },
  {
   "cell_type": "markdown",
   "metadata": {
    "id": "FRrwjp8XjDUV"
   },
   "source": [
    "# Download raw dataset"
   ]
  },
  {
   "cell_type": "code",
   "execution_count": 1,
   "metadata": {
    "id": "CLY2HM6djBc1"
   },
   "outputs": [],
   "source": [
    "from IPython.display import clear_output"
   ]
  },
  {
   "cell_type": "code",
   "execution_count": null,
   "metadata": {
    "id": "71q_kV7Yhw6I"
   },
   "outputs": [],
   "source": [
    "files = ['optdigits.names',\n",
    "        'optdigits.tes',\n",
    "        'optdigits.tra',\n",
    "        'readme.txt']"
   ]
  },
  {
   "cell_type": "code",
   "execution_count": null,
   "metadata": {
    "id": "rUD38NU0ieWY"
   },
   "outputs": [],
   "source": [
    "for file in files:\n",
    "    path = 'https://archive.ics.uci.edu/ml/machine-learning-databases/optdigits/' + file\n",
    "    !wget {path}\n",
    "\n",
    "clear_output()"
   ]
  },
  {
   "cell_type": "code",
   "execution_count": 4,
   "metadata": {
    "id": "funZY-1Jjojg"
   },
   "outputs": [],
   "source": [
    "import numpy as np\n",
    "from matplotlib import pyplot as plt"
   ]
  },
  {
   "cell_type": "markdown",
   "metadata": {
    "id": "1hwvS1vSju5s"
   },
   "source": [
    "# Creating dataset on hub"
   ]
  },
  {
   "cell_type": "markdown",
   "metadata": {
    "id": "ettX_rwmf5fa"
   },
   "source": [
    "**Activeloop API** : https://docs.activeloop.ai/api-basics"
   ]
  },
  {
   "cell_type": "code",
   "execution_count": 32,
   "metadata": {
    "colab": {
     "base_uri": "https://localhost:8080/"
    },
    "id": "e_uTH7uVjRik",
    "outputId": "46f6eadb-7899-45ce-bbda-8031ac25a8ca"
   },
   "outputs": [
    {
     "name": "stdout",
     "output_type": "stream",
     "text": [
      "env: BUGGER_OFF=True\n",
      "Successfully logged in to Activeloop.\n"
     ]
    }
   ],
   "source": [
    "import hub\n",
    "\n",
    "# Login to ActiveLoop\n",
    "\n",
    "%env BUGGER_OFF=True\n",
    "!activeloop login -u username -p password\n",
    "!activeloop reporting --off"
   ]
  },
  {
   "cell_type": "code",
   "execution_count": 20,
   "metadata": {
    "id": "L_q7Rsn9k39G"
   },
   "outputs": [],
   "source": [
    "def load_csv(filename):\n",
    "    images = []\n",
    "    labels = []\n",
    "    with open(filename, 'r') as file:\n",
    "        lines = [line.split(',') for line in file.readlines()]\n",
    "        for line in lines:\n",
    "            images.append(np.array(line[:-1], dtype=np.uint8).reshape(8,8))\n",
    "            labels.append(np.uint32(line[-1]))\n",
    "\n",
    "    return(images, labels)"
   ]
  },
  {
   "cell_type": "code",
   "execution_count": 14,
   "metadata": {
    "id": "3jM6GF4CrRjd"
   },
   "outputs": [],
   "source": [
    "class_names = ['0', '1', '2', '3', '4', '5', '6', '7', '8', '9']"
   ]
  },
  {
   "cell_type": "code",
   "execution_count": 36,
   "metadata": {
    "colab": {
     "base_uri": "https://localhost:8080/"
    },
    "id": "oacZ9yYBrOKF",
    "outputId": "cd8d541f-e53e-44e8-ec03-e3495f151bc2"
   },
   "outputs": [
    {
     "name": "stdout",
     "output_type": "stream",
     "text": [
      "Your Hub dataset has been successfully created!\n",
      "The dataset is private so make sure you are logged in!\n",
      "This dataset can be visualized at https://app.activeloop.ai/activeloop/optical-handwritten-digits-train.\n"
     ]
    }
   ],
   "source": [
    "filename_path = 'hub://<username>/optical-handwritten-digits-train'\n",
    "ds = hub.dataset(filename_path)\n",
    "\n",
    "with ds: \n",
    "    ds.create_tensor('images', htype='image', sample_compression=None)\n",
    "    ds.create_tensor('labels', htype = 'class_label', class_names = class_names)\n",
    "\n",
    "    images, labels = load_csv('optdigits.tra')\n",
    "    ds.images.extend(images)\n",
    "    ds.labels.extend(labels)"
   ]
  },
  {
   "cell_type": "code",
   "execution_count": 37,
   "metadata": {
    "colab": {
     "base_uri": "https://localhost:8080/"
    },
    "id": "Q-2OM9qL3l0c",
    "outputId": "33e0f12f-d5d5-4ddb-c942-e0652247fb11"
   },
   "outputs": [
    {
     "name": "stdout",
     "output_type": "stream",
     "text": [
      "Your Hub dataset has been successfully created!\n",
      "The dataset is private so make sure you are logged in!\n",
      "This dataset can be visualized at https://app.activeloop.ai/activeloop/optical-handwritten-digits-test.\n"
     ]
    }
   ],
   "source": [
    "filename_path = 'hub://<username>/optical-handwritten-digits-test'\n",
    "ds = hub.dataset(filename_path)\n",
    "\n",
    "with ds: \n",
    "    ds.create_tensor('images', htype='image', sample_compression=None)\n",
    "    ds.create_tensor('labels', htype = 'class_label', class_names = class_names)\n",
    "\n",
    "    images, labels = load_csv('optdigits.tes')\n",
    "    ds.images.extend(images)\n",
    "    ds.labels.extend(labels)"
   ]
  },
  {
   "cell_type": "code",
   "execution_count": 35,
   "metadata": {
    "colab": {
     "base_uri": "https://localhost:8080/",
     "height": 281
    },
    "id": "Ex6YlY-Yv8zc",
    "outputId": "5deda3e7-f9b7-4aca-b348-c376a179898f"
   },
   "outputs": [
    {
     "data": {
      "image/png": "[encoded data removed]",
      "text/plain": [
       "<Figure size 432x288 with 1 Axes>"
      ]
     },
     "metadata": {
      "needs_background": "light"
     },
     "output_type": "display_data"
    }
   ],
   "source": [
    "image = ds.images[0].numpy()\n",
    "label = ds.labels[0].numpy()\n",
    "plt.imshow(image)\n",
    "plt.title(f'Label -> {label}')\n",
    "plt.show()"
   ]
  },
  {
   "cell_type": "markdown",
   "metadata": {
    "id": "VNqKHwxaGlE-"
   },
   "source": [
    "# Testing dataset from Hub"
   ]
  },
  {
   "cell_type": "code",
   "execution_count": 39,
   "metadata": {
    "id": "MiCpICz84BVY"
   },
   "outputs": [],
   "source": [
    "train_path = 'hub://<username>/optical-handwritten-digits-train'\n",
    "test_path = 'hub://<username>/optical-handwritten-digits-test'"
   ]
  },
  {
   "cell_type": "code",
   "execution_count": null,
   "metadata": {
    "colab": {
     "base_uri": "https://localhost:8080/",
     "height": 316
    },
    "id": "uD1PMqeb4NTX",
    "outputId": "df6eb312-2444-4d68-86e1-25704153c289"
   },
   "outputs": [],
   "source": [
    "ds = hub.dataset(train_path)\n",
    "image = ds.images[0].numpy()\n",
    "label = ds.labels[0].numpy()\n",
    "plt.imshow(image)\n",
    "plt.title(f'Label -> {label}')\n",
    "plt.show()"
   ]
  },
  {
   "cell_type": "code",
   "execution_count": null,
   "metadata": {
    "colab": {
     "base_uri": "https://localhost:8080/",
     "height": 316
    },
    "id": "Qj6catLfDeXN",
    "outputId": "c594777a-9090-48d7-cb35-73f9220d83d5"
   },
   "outputs": [],
   "source": [
    "ds = hub.dataset(test_path)\n",
    "image = ds.images[0].numpy()\n",
    "label = ds.labels[0].numpy()\n",
    "plt.imshow(image)\n",
    "plt.title(f'Label -> {label}')\n",
    "plt.show()"
   ]
  }
 ],
 "metadata": {
  "colab": {
   "authorship_tag": "ABX9TyPmGhB1cRrcXBd3Df3GM596",
   "collapsed_sections": [
    "mC0gCXlAi8yE"
   ],
   "include_colab_link": true,
   "name": "DigitsDataset.ipynb",
   "provenance": []
  },
  "kernelspec": {
   "display_name": "Python 3 (ipykernel)",
   "language": "python",
   "name": "python3"
  },
  "language_info": {
   "codemirror_mode": {
    "name": "ipython",
    "version": 3
   },
   "file_extension": ".py",
   "mimetype": "text/x-python",
   "name": "python",
   "nbconvert_exporter": "python",
   "pygments_lexer": "ipython3",
   "version": "3.8.10"
  }
 },
 "nbformat": 4,
 "nbformat_minor": 4
}
