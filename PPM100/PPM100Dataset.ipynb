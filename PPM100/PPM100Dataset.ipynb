{
 "cells": [
  {
   "cell_type": "markdown",
   "metadata": {
    "id": "mC0gCXlAi8yE"
   },
   "source": [
    "# Installing Hub"
   ]
  },
  {
   "cell_type": "code",
   "execution_count": null,
   "metadata": {
    "colab": {
     "base_uri": "https://localhost:8080/"
    },
    "id": "u-xVVaAiiCAt",
    "outputId": "54b92e5d-ba67-4370-cf99-b435cb1e87ba"
   },
   "outputs": [],
   "source": [
    "!pip3 install hub --quiet\n",
    "\n",
    "# Run below cells and restart the runtime\n",
    "# if you are running it in colab\n",
    "# import os\n",
    "# os.kill(os.getpid(), 9) "
   ]
  },
  {
   "cell_type": "markdown",
   "metadata": {
    "id": "FRrwjp8XjDUV"
   },
   "source": [
    "# Download raw dataset"
   ]
  },
  {
   "cell_type": "code",
   "execution_count": null,
   "metadata": {
    "id": "CLY2HM6djBc1"
   },
   "outputs": [],
   "source": [
    "from IPython.display import clear_output"
   ]
  },
  {
   "cell_type": "code",
   "execution_count": null,
   "metadata": {
    "id": "OHAidbi4bz_1"
   },
   "outputs": [],
   "source": [
    "# Download dataset here\n",
    "\n",
    "# gdown is present in colab. Download if you \n",
    "# are using doing this on local machine\n",
    "!gdown --id 1JUx-EPoV9QAhQgmW0AyOen-xKQUzZia- \n",
    "!unzip PPM-100.zip\n",
    "clear_output()"
   ]
  },
  {
   "cell_type": "code",
   "execution_count": null,
   "metadata": {
    "id": "funZY-1Jjojg"
   },
   "outputs": [],
   "source": [
    "from PIL import Image \n",
    "import numpy as np \n",
    "import os\n",
    "from matplotlib import pyplot as plt"
   ]
  },
  {
   "cell_type": "markdown",
   "metadata": {
    "id": "1hwvS1vSju5s"
   },
   "source": [
    "# Creating dataset on hub"
   ]
  },
  {
   "cell_type": "markdown",
   "metadata": {
    "id": "ettX_rwmf5fa"
   },
   "source": [
    "**Activeloop API** : https://docs.activeloop.ai/api-basics"
   ]
  },
  {
   "cell_type": "code",
   "execution_count": null,
   "metadata": {
    "cellView": "form",
    "colab": {
     "base_uri": "https://localhost:8080/"
    },
    "id": "e_uTH7uVjRik",
    "outputId": "71aaa276-b404-4802-e1a2-0195fcbda896"
   },
   "outputs": [],
   "source": [
    "import hub\n",
    "\n",
    "# Login to ActiveLoop\n",
    "%env BUGGER_OFF=true\n",
    "!activeloop login -u username -p password\n",
    "!activeloop reporting --off"
   ]
  },
  {
   "cell_type": "code",
   "execution_count": null,
   "metadata": {
    "colab": {
     "base_uri": "https://localhost:8080/"
    },
    "id": "yqNMH8ZMjSdp",
    "outputId": "cfe1fb6d-51b2-43b6-edb0-4473bca81cbb"
   },
   "outputs": [],
   "source": [
    "filename_path = 'hub://<username>/ppm100'\n",
    "ds = hub.dataset(filename_path)"
   ]
  },
  {
   "cell_type": "code",
   "execution_count": null,
   "metadata": {
    "id": "ttiOMcLIeGPn"
   },
   "outputs": [],
   "source": [
    "with ds:\n",
    "    ds.info.update(source='https://github.com/ZHKKKe/PPM')\n",
    "\n",
    "    ds.create_tensor('images', htype='image', sample_compression='jpg')\n",
    "    ds.create_tensor('masks', htype='binary_mask', sample_compression='lz4')"
   ]
  },
  {
   "cell_type": "code",
   "execution_count": null,
   "metadata": {
    "colab": {
     "base_uri": "https://localhost:8080/"
    },
    "id": "sCrM_nKge2GU",
    "outputId": "c401a545-98b9-4614-e987-6e31ade5b1b5"
   },
   "outputs": [],
   "source": [
    "data_path = 'PPM-100'\n",
    "os.listdir(data_path)"
   ]
  },
  {
   "cell_type": "code",
   "execution_count": null,
   "metadata": {
    "id": "e3w4gd-he5Mf"
   },
   "outputs": [],
   "source": [
    "with ds:\n",
    "    for image in os.listdir('PPM-100/image/'):\n",
    "        ds['images'].append(hub.read(os.path.join(data_path, 'image', image)))\n",
    "\n",
    "        img = Image.open(os.path.join(data_path, 'matte', image))\n",
    "        mask = np.array(img,dtype='uint8')\n",
    "        ds['masks'].append(mask.astype('bool'))"
   ]
  },
  {
   "cell_type": "code",
   "execution_count": null,
   "metadata": {
    "colab": {
     "base_uri": "https://localhost:8080/",
     "height": 521
    },
    "id": "njDEPcmue5Sj",
    "outputId": "43110916-4787-45ad-9f7f-b9d150155927"
   },
   "outputs": [],
   "source": [
    "image = ds['images'][0].numpy()\n",
    "matte = ds['masks'][0].numpy()\n",
    "plt.imshow(image)\n",
    "plt.show()\n",
    "plt.imshow(matte, cmap='gray')\n",
    "plt.show()"
   ]
  },
  {
   "cell_type": "markdown",
   "metadata": {
    "id": "VNqKHwxaGlE-"
   },
   "source": [
    "# Testing dataset from Hub"
   ]
  },
  {
   "cell_type": "code",
   "execution_count": null,
   "metadata": {
    "colab": {
     "base_uri": "https://localhost:8080/"
    },
    "id": "Qj6catLfDeXN",
    "outputId": "eb2627bf-f151-4c59-c9da-bdab2a2dcd4a"
   },
   "outputs": [],
   "source": [
    "ds = hub.load(filename_path)\n",
    "# print tensor shapes\n",
    "images = ds.images.numpy(aslist=True)\n",
    "masks = ds.masks.numpy(aslist=True)"
   ]
  },
  {
   "cell_type": "code",
   "execution_count": null,
   "metadata": {
    "colab": {
     "base_uri": "https://localhost:8080/",
     "height": 521
    },
    "id": "R9KmQlaWzoBo",
    "outputId": "4b5b2bdc-8a71-4ffa-8402-11773a447c9d"
   },
   "outputs": [],
   "source": [
    "plt.imshow(images[0])\n",
    "plt.show()\n",
    "\n",
    "plt.imshow(masks[0], cmap='gray')\n",
    "plt.show()"
   ]
  }
 ],
 "metadata": {
  "colab": {
   "authorship_tag": "ABX9TyNYlRDliLG5lmPPXorH+wXL",
   "collapsed_sections": [
    "mC0gCXlAi8yE"
   ],
   "include_colab_link": true,
   "name": "PPM100Dataset.ipynb",
   "provenance": []
  },
  "kernelspec": {
   "display_name": "Python 3 (ipykernel)",
   "language": "python",
   "name": "python3"
  },
  "language_info": {
   "codemirror_mode": {
    "name": "ipython",
    "version": 3
   },
   "file_extension": ".py",
   "mimetype": "text/x-python",
   "name": "python",
   "nbconvert_exporter": "python",
   "pygments_lexer": "ipython3",
   "version": "3.8.10"
  }
 },
 "nbformat": 4,
 "nbformat_minor": 4
}
