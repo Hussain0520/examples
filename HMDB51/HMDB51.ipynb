{
 "cells": [
  {
   "cell_type": "markdown",
   "id": "34dc8b7c-c7aa-4058-85d8-d6c1e4b53741",
   "metadata": {
    "id": "mC0gCXlAi8yE"
   },
   "source": [
    "# Installing Hub"
   ]
  },
  {
   "cell_type": "code",
   "execution_count": null,
   "id": "6424b662-ee6f-4b34-a9ca-bbdb2ece5378",
   "metadata": {
    "colab": {
     "base_uri": "https://localhost:8080/"
    },
    "id": "u-xVVaAiiCAt",
    "outputId": "e616472d-d672-4a83-a8af-2f1279bde38a"
   },
   "outputs": [],
   "source": [
    "!pip3 install hub --quiet\n",
    "\n",
    "# Run below cells and restart the runtime\n",
    "# if you are running it in colab\n",
    "# import os\n",
    "# os.kill(os.getpid(), 9) "
   ]
  },
  {
   "cell_type": "markdown",
   "id": "5a60b470",
   "metadata": {
    "id": "5a60b470"
   },
   "source": [
    "# Loading Packages"
   ]
  },
  {
   "cell_type": "code",
   "execution_count": null,
   "id": "da79631d",
   "metadata": {
    "id": "da79631d"
   },
   "outputs": [],
   "source": [
    "from IPython.display import clear_output"
   ]
  },
  {
   "cell_type": "code",
   "execution_count": null,
   "id": "45e09e9e",
   "metadata": {
    "id": "45e09e9e"
   },
   "outputs": [],
   "source": [
    "import os\n",
    "import pandas as pd\n",
    "from glob import glob\n",
    "import time"
   ]
  },
  {
   "cell_type": "code",
   "execution_count": null,
   "id": "3bfc73db",
   "metadata": {
    "id": "3bfc73db"
   },
   "outputs": [],
   "source": [
    "# Download Video Data\n",
    "!wget http://serre-lab.clps.brown.edu/wp-content/uploads/2013/10/hmdb51_org.rar\n",
    "!unrar e hmdb51_org.rar hmdb_rar/\n",
    "clear_output()"
   ]
  },
  {
   "cell_type": "code",
   "execution_count": null,
   "id": "863e74e6",
   "metadata": {
    "id": "863e74e6"
   },
   "outputs": [],
   "source": [
    "rar_files = glob('hmdb_rar/*.rar')\n",
    "\n",
    "base_path = 'hmdb'\n",
    "\n",
    "for (index, rar) in enumerate(rar_files, 1):\n",
    "    path = os.path.join(base_path, rar.split('/')[-1].split('.')[0], '')\n",
    "    print(f'{index} -> {path}')\n",
    "    !unrar e {rar} {path}\n",
    "    clear_output()"
   ]
  },
  {
   "cell_type": "code",
   "execution_count": null,
   "id": "73f956d0",
   "metadata": {
    "id": "73f956d0"
   },
   "outputs": [],
   "source": [
    "# Download Train/Test Splits\n",
    "!wget http://serre-lab.clps.brown.edu/wp-content/uploads/2013/10/test_train_splits.rar\n",
    "!unrar e test_train_splits.rar hmdb_splits/\n",
    "clear_output()"
   ]
  },
  {
   "cell_type": "markdown",
   "id": "fb25876a",
   "metadata": {
    "id": "fb25876a"
   },
   "source": [
    "# Processing dataset"
   ]
  },
  {
   "cell_type": "code",
   "execution_count": null,
   "id": "814351df",
   "metadata": {
    "id": "814351df"
   },
   "outputs": [],
   "source": [
    "txts = glob('hmdb_splits/*split1.txt')"
   ]
  },
  {
   "cell_type": "code",
   "execution_count": null,
   "id": "497f6124",
   "metadata": {
    "id": "497f6124",
    "outputId": "4aa3b62b-851c-49c4-eab4-a33d5e6cda4b"
   },
   "outputs": [],
   "source": [
    "class_labels = [txt.split('/')[-1].split('_test')[0] for txt in txts]\n",
    "\n",
    "# !rm -rf dataset\n",
    "!mkdir -p dataset/train dataset/test dataset/extras\n",
    "\n",
    "hmdb_path = 'hmdb'\n",
    "base_path = 'dataset'\n",
    "subfolders = ['extras', 'train', 'test']\n",
    "\n",
    "start = time.time()\n",
    "\n",
    "for (index, label) in enumerate(class_labels, 1):\n",
    "    txt_path = os.path.join('hmdb_splits', label+'_test_split1.txt')\n",
    "    df = pd.read_csv(txt_path, names=['Video', 'ID'], delimiter=r\"\\s+\")\n",
    "\n",
    "    for name, group in df.groupby(by='ID'):\n",
    "        \n",
    "        folder_path = os.path.join(base_path, subfolders[name], label)\n",
    "        os.mkdir(folder_path)\n",
    "        \n",
    "        for (video_index, video_name) in enumerate(group['Video'].tolist()):\n",
    "            print('[{0}] -> [{1}] -> [{2}] -> [{3}]-> [{4}]]'.format(\n",
    "                        index,\n",
    "                        label,\n",
    "                        subfolders[name],\n",
    "                        video_index,\n",
    "                        video_name\n",
    "            ))\n",
    "            source = os.path.join(hmdb_path, label, video_name)\n",
    "            destination = os.path.join(folder_path, video_name.split('.')[0]+'.mp4')\n",
    "            !ffmpeg -i {source} {destination}\n",
    "            clear_output()\n",
    "            \n",
    "stop = time.time()\n",
    "print(f'Time elapsed in conversion : {round(stop-start, 2)}s')"
   ]
  },
  {
   "cell_type": "markdown",
   "id": "c9afbe00",
   "metadata": {
    "id": "c9afbe00"
   },
   "source": [
    "# Uploading to hub"
   ]
  },
  {
   "cell_type": "code",
   "execution_count": null,
   "id": "456d7ba8",
   "metadata": {
    "id": "456d7ba8",
    "outputId": "ec52c375-6f3f-42e3-eb13-5b85ebdb4b57"
   },
   "outputs": [],
   "source": [
    "import hub\n",
    "\n",
    "# Login to ActiveLoop\n",
    "\n",
    "%env BUGGER_OFF=True\n",
    "!activeloop login -u username -p password\n",
    "!activeloop reporting --off"
   ]
  },
  {
   "cell_type": "code",
   "execution_count": null,
   "id": "1dfc0546",
   "metadata": {
    "id": "1dfc0546",
    "outputId": "dc308306-cf10-4ec2-bf83-26e69e417d31"
   },
   "outputs": [],
   "source": [
    "# Process data in filename\n",
    "\n",
    "\"\"\"\n",
    "PROPERTY -> LABELS (ABBREVIATION)\n",
    "visible body parts -> head(h), upper body(u), full body (f), lower body(l)\n",
    "camera motion -> motion (cm), static (nm)\n",
    "number of people involved in the action\tSingle (np1), two (np2), three (np3)\n",
    "camera viewpoint -> Front (fr), back (ba), left(le), right(ri)\n",
    "video quality -> good (goo), medium (med), ok (bad)\n",
    "\"\"\"\n",
    "\n",
    "visible_body_parts = ['head', 'upper_body', 'full_body', 'lower_body']\n",
    "camera_motion = ['motion', 'static']\n",
    "camera_viewpoint = ['front', 'back', 'left', 'right']\n",
    "number_of_people = ['zero', 'one', 'two', 'three', 'four', 'five', 'six', 'seven', 'eight', 'nine', 'ten']\n",
    "video_quality = ['good', 'medium', 'ok']\n",
    "\n",
    "labels_list = [visible_body_parts, \n",
    "               camera_motion, \n",
    "               number_of_people, \n",
    "               camera_viewpoint, \n",
    "               video_quality]\n",
    "\n",
    "label_dict = {\n",
    "    # visible body parts\n",
    "    'h' : 0, 'u' : 1, 'f' : 2, 'l' : 3,\n",
    "    \n",
    "    # camera motion\n",
    "    'cm' : 0, 'nm' : 1,\n",
    "    \n",
    "    # number of people involved in the action\n",
    "    'np0' : 0, 'np1' : 1, 'np2' : 2, 'np3' : 3, \n",
    "    'np4' : 4, 'np5' : 5, 'np6' : 6, 'np7' : 7, \n",
    "    'np8' : 8, 'np9' : 9, 'np10': 10,\n",
    "    \n",
    "    # camera viewpoint\n",
    "    'fr' : 0, 'ba' : 1, 'le' : 2, 'ri' : 3,\n",
    "    \n",
    "    # video quality\n",
    "    'goo' : 0, 'med' : 1, 'bad' : 2\n",
    "}\n",
    "\n",
    "def process_filename(name, label_dict, labels_list):\n",
    "    return [label_dict[val] for val in name.split('_')[-6:-1]]\n",
    "\n",
    "name = \"50_FIRST_DATES_dive_f_cm_np1_ri_bad_35\"\n",
    "process_filename(name, label_dict, labels_list)"
   ]
  },
  {
   "cell_type": "code",
   "execution_count": null,
   "id": "75c40f7d",
   "metadata": {
    "id": "75c40f7d",
    "outputId": "b94d0a1e-aa29-4403-8120-83bdddb2b60d"
   },
   "outputs": [],
   "source": [
    "base_path = 'dataset'\n",
    "subfolder = 'extras' # ['extras', 'train', 'test']\n",
    "\n",
    "hubname = f'hub://<username>/hmdb51-{subfolder}'\n",
    "ds = hub.dataset(hubname)\n",
    "\n",
    "dataset_path = os.path.join(base_path, subfolder)\n",
    "class_labels = os.listdir(dataset_path)\n",
    "\n",
    "start = time.time()\n",
    "\n",
    "with ds:\n",
    "    ds.create_tensor('visible_body_parts', htype='class_label', class_names=visible_body_parts)\n",
    "    ds.create_tensor('camera_motion', htype='class_label', class_names=camera_motion)\n",
    "    ds.create_tensor('camera_viewpoint', htype='class_label', class_names=camera_viewpoint)\n",
    "    ds.create_tensor('number_of_people', htype='class_label', class_names=number_of_people)\n",
    "    ds.create_tensor('video_quality', htype='class_label', class_names=video_quality)\n",
    "    ds.create_tensor('labels', htype='class_label', class_names=class_labels)\n",
    "    ds.create_tensor('videos', htype='video', sample_compression='mp4')\n",
    "    \n",
    "    for index, label in enumerate(class_labels):\n",
    "        folder_path = os.path.join(dataset_path, label)\n",
    "        # print(f'[{index}] | [{label}] | [{time.time()-start}]')\n",
    "        for video in os.listdir(folder_path):\n",
    "            video_path = os.path.join(folder_path, video)\n",
    "            a, b, c, d, e = process_filename(video, label_dict, labels_list)\n",
    "            ds.append({\n",
    "                'videos' : hub.read(video_path),\n",
    "                'labels' : index,\n",
    "                'visible_body_parts' : a,\n",
    "                'camera_motion' : b, \n",
    "                'camera_viewpoint' : c, \n",
    "                'number_of_people' : d, \n",
    "                'video_quality' : e\n",
    "            })\n",
    "\n",
    "        \n",
    "stop = time.time()\n",
    "print(f'Time elapsed in uploading : {round(stop-start, 2)}s')"
   ]
  },
  {
   "cell_type": "markdown",
   "id": "4babc630",
   "metadata": {
    "id": "4babc630"
   },
   "source": [
    "# Hub Dataset Links\n",
    "https://app.activeloop.ai/activeloop/hmdb51-train <br>\n",
    "https://app.activeloop.ai/activeloop/hmdb51-test <br>\n",
    "https://app.activeloop.ai/activeloop/hmdb51-extras"
   ]
  }
 ],
 "metadata": {
  "colab": {
   "collapsed_sections": [],
   "include_colab_link": true,
   "name": "HMDB51_Dataset.ipynb",
   "provenance": []
  },
  "kernelspec": {
   "display_name": "Python 3 (ipykernel)",
   "language": "python",
   "name": "python3"
  },
  "language_info": {
   "codemirror_mode": {
    "name": "ipython",
    "version": 3
   },
   "file_extension": ".py",
   "mimetype": "text/x-python",
   "name": "python",
   "nbconvert_exporter": "python",
   "pygments_lexer": "ipython3",
   "version": "3.8.10"
  }
 },
 "nbformat": 4,
 "nbformat_minor": 5
}
