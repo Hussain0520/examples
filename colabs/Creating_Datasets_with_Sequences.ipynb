{
  "nbformat": 4,
  "nbformat_minor": 0,
  "metadata": {
    "colab": {
      "name": "Creating Datasets with Sequences",
      "provenance": [],
      "collapsed_sections": [],
      "include_colab_link": true
    },
    "kernelspec": {
      "name": "python3",
      "display_name": "Python 3"
    },
    "language_info": {
      "name": "python"
    }
  },
  "cells": [
    {
      "cell_type": "markdown",
      "metadata": {
        "id": "view-in-github",
        "colab_type": "text"
      },
      "source": [
        "<a href=\"https://colab.research.google.com/github/activeloopai/examples/blob/main/colabs/Creating_Datasets_with_Sequences.ipynb\" target=\"_parent\"><img src=\"https://colab.research.google.com/assets/colab-badge.svg\" alt=\"Open In Colab\"/></a>"
      ]
    },
    {
      "cell_type": "markdown",
      "metadata": {
        "id": "lKU8kmSs65xv"
      },
      "source": [
        "# ***Creating Datasets with Sequences***\n",
        "\n"
      ]
    },
    {
      "cell_type": "markdown",
      "metadata": {
        "id": "3zK9b4yiMRzB"
      },
      "source": [
        "#### Deep learning with computer vision is increasingly moving in a direction of temporal data, where video frames and their labels are stored as sequences, rather than independent images. Models trained on this data directly account for the temporal information content, rather than making predictions frame-by-frame and then fusing them with non-deep-learning techniques."
      ]
    },
    {
      "cell_type": "markdown",
      "metadata": {
        "id": "3UseHLcoRIYz"
      },
      "source": [
        "## Install Hub"
      ]
    },
    {
      "cell_type": "code",
      "metadata": {
        "id": "l5mOffq5RN-T"
      },
      "source": [
        "from IPython.display import clear_output\n",
        "!pip3 install hub\n",
        "clear_output()"
      ],
      "execution_count": null,
      "outputs": []
    },
    {
      "cell_type": "markdown",
      "metadata": {
        "id": "7wGo53ndMTCB"
      },
      "source": [
        "## Create the Hub Dataset"
      ]
    },
    {
      "cell_type": "markdown",
      "metadata": {
        "id": "52h9xKujOJFs"
      },
      "source": [
        "The first step is to download the dataset [Multiple Object Tracking Benchmark](https://motchallenge.net/data/MOT16/). Additional information about this data and its format is in this [GitHub Repo](https://github.com/JonathonLuiten/TrackEval/blob/master/docs/MOTChallenge-Official/Readme.md).\n",
        "The dataset has the following folder structure:"
      ]
    },
    {
      "cell_type": "markdown",
      "source": [
        "MOT16\n",
        "- train\n",
        "    - MOT16_N (Folder with sequence N)\n",
        "        - det\n",
        "        - gt (Folder with ground truth annotations)\n",
        "        - img1 (Folder with images the sequence)\n",
        "            - 00000n.jpg (image of n-th frame in sequence)\n",
        "    - MOT16_M\n",
        "    - ...\n",
        "- test (same structure as train)"
      ],
      "metadata": {
        "id": "zZJAZYJmiBNq"
      }
    },
    {
      "cell_type": "code",
      "metadata": {
        "id": "V6m__biyt5I1"
      },
      "source": [
        "# Download dataset\n",
        "from IPython.display import clear_output\n",
        "!wget https://motchallenge.net/data/MOT16.zip\n",
        "clear_output()"
      ],
      "execution_count": null,
      "outputs": []
    },
    {
      "cell_type": "code",
      "metadata": {
        "id": "_fNxNZIft5F-"
      },
      "source": [
        "# Unzip to './MOT16' folder\n",
        "!unzip -qq /content/MOT16.zip -d \"/content/MOT16\""
      ],
      "execution_count": null,
      "outputs": []
    },
    {
      "cell_type": "markdown",
      "source": [
        "The annotations in `gt.txt` have the format below, and the last 4 items (conf->z) are not used in the hub dataset:"
      ],
      "metadata": {
        "id": "kq5V2a_0QxQM"
      }
    },
    {
      "cell_type": "markdown",
      "source": [
        "```\n",
        "frame, id, bb_left, bb_top, bb_width, bb_height, conf, x, y, z\n",
        "```\n",
        "\n"
      ],
      "metadata": {
        "id": "F9KBmhNpQzmD"
      }
    },
    {
      "cell_type": "markdown",
      "metadata": {
        "id": "g_iOi_9NuXAI"
      },
      "source": [
        "Now we're ready to **create a Hub Dataset** in the `./mot_2016_train` folder by running:"
      ]
    },
    {
      "cell_type": "code",
      "metadata": {
        "id": "qaZtpnpTOp-5",
        "colab": {
          "base_uri": "https://localhost:8080/"
        },
        "outputId": "8664c962-97b7-4986-98bd-c301d38f93dc"
      },
      "source": [
        "%env BUGGER_OFF = True\n",
        "import hub\n",
        "import os\n",
        "import pandas as pd\n",
        "import numpy as np\n",
        "from PIL import Image, ImageDraw\n",
        "\n",
        "ds = hub.empty('./mot_2016_train', overwrite = True) # Create the dataset locally"
      ],
      "execution_count": null,
      "outputs": [
        {
          "output_type": "stream",
          "name": "stdout",
          "text": [
            "env: BUGGER_OFF=True\n",
            "NumExpr defaulting to 2 threads.\n"
          ]
        }
      ]
    },
    {
      "cell_type": "markdown",
      "source": [
        "Next, let's write code to inspect the folder structure for the downloaded dataset and create a list of folders containing the sequences:"
      ],
      "metadata": {
        "id": "OYGV0vM5ixmk"
      }
    },
    {
      "cell_type": "code",
      "source": [
        "dataset_folder = '/content/MOT16/train'\n",
        "\n",
        "sequences = [ item for item in sorted(os.listdir(dataset_folder)) if os.path.isdir(os.path.join(dataset_folder, item)) ]"
      ],
      "metadata": {
        "id": "LLlF2Ys4jGuK"
      },
      "execution_count": null,
      "outputs": []
    },
    {
      "cell_type": "markdown",
      "metadata": {
        "id": "qNMOv3LPOyAd"
      },
      "source": [
        "Next, let's create the tensors by using the `sequence[...]` htype, iterate through each sequence, and iterate through each frame within the sequence, one-by-one. "
      ]
    },
    {
      "cell_type": "markdown",
      "source": [
        "**Note:** Data is appended to sequence[...] htypes using lists. The list contains the whole sample, and the individual elements of the list are the individual data points, such as the image frame, the bounding boxes in a particular frame, etc. \n",
        "\n",
        "See end of code block below."
      ],
      "metadata": {
        "id": "TIuDyMYxkBlS"
      }
    },
    {
      "cell_type": "code",
      "source": [
        "with ds:\n",
        "    # Define tensors\n",
        "    ds.create_tensor('frames', htype = 'sequence[image]', sample_compression = 'jpg')\n",
        "    ds.create_tensor('boxes', htype = 'sequence[bbox]')\n",
        "    ds.create_tensor('ids', htype = 'sequence[]', dtype = 'uint32') # Ids are not uploaded as htype = 'class_labels' because they don't contain information about the class of an object.\n",
        "\n",
        "    ds.boxes.info.update(coords = {'type': 'pixel', 'mode': 'LTWH'}) # Bounding box format is left, top, width, height\n",
        "\n",
        "    # Iterate through each sequence\n",
        "    for sequence in sequences:\n",
        "\n",
        "        # Define root directory for that sequence    \n",
        "        root_local = os.path.join(dataset_folder,sequence, 'img1')\n",
        "        \n",
        "        # Get a list of all the image paths\n",
        "        img_paths = [os.path.join(root_local, item) for item in sorted(os.listdir(root_local))]\n",
        "\n",
        "        # Read the annotations and convert to dataframe\n",
        "        with open(os.path.join(dataset_folder,sequence, 'gt', 'gt.txt')) as f:\n",
        "            anns = [line.rstrip('\\n') for line in f]\n",
        "        \n",
        "        anns_df = pd.read_csv(os.path.join(dataset_folder, sequence, 'gt', 'gt.txt'), header = None)\n",
        "\n",
        "        # Get the frames from the annotations and make sure they're of equal length as the images\n",
        "        frames = pd.unique(anns_df[0])\n",
        "        assert len(frames) == len(img_paths)\n",
        "\n",
        "        # Iterate through each frame and add data to sequence\n",
        "        boxes_seq = []\n",
        "        ids_seq = []\n",
        "        for frame in frames:\n",
        "            ann_df = anns_df[anns_df[0] == frame] # Find annotations in the specific frame\n",
        "\n",
        "            boxes_seq.append(ann_df.loc[:, [2, 3, 4, 5]].to_numpy().astype('float32')) # Box coordinates are in the 3rd-6th column\n",
        "\n",
        "            ids_seq.append(ann_df.loc[:, 1].to_numpy().astype('uint32')) # ids are in the second column\n",
        "        \n",
        "        # Append the sequences to the hub dataset\n",
        "        ds.append({\n",
        "            \"frames\": [hub.read(path) for path in img_paths],\n",
        "            \"boxes\": boxes_seq,\n",
        "            \"ids\": ids_seq})"
      ],
      "metadata": {
        "id": "iRmfx0hlkFbx"
      },
      "execution_count": null,
      "outputs": []
    },
    {
      "cell_type": "markdown",
      "source": [
        "This dataset identifies objects by `id`, where each `id` represents an instance of an object. However, the `id` does not identify the class of the object, such person, car, truck, etc. Therefore, the `ids` were not uploaded as `htype = \"class_label\"`."
      ],
      "metadata": {
        "id": "kB-opzpQkurN"
      }
    },
    {
      "cell_type": "markdown",
      "metadata": {
        "id": "aYCI61o-O9CV"
      },
      "source": [
        "##Inspect the Hub Dataset"
      ]
    },
    {
      "cell_type": "markdown",
      "metadata": {
        "id": "pXkD-gLgO_7L"
      },
      "source": [
        "Let's check out the 10th frame in the 6th sequence in this dataset."
      ]
    },
    {
      "cell_type": "code",
      "metadata": {
        "id": "PEPTKmCiPD-T"
      },
      "source": [
        "# Draw bounding boxes for the 10th frame in the 6th sequence\n",
        "\n",
        "seq_ind = 5\n",
        "frame_ind = 9\n",
        "img = Image.fromarray(ds.frames[seq_ind][frame_ind].numpy())\n",
        "draw = ImageDraw.Draw(img)\n",
        "(w,h) = img.size\n",
        "boxes = ds.boxes[seq_ind][frame_ind].numpy()\n",
        "\n",
        "for b in range(boxes.shape[0]):\n",
        "    (x1,y1) = (int(boxes[b][0]), int(boxes[b][1]))\n",
        "    (x2,y2) = (int(boxes[b][0]+boxes[b][2]), int(boxes[b][1]+boxes[b][3]))\n",
        "    draw.rectangle([x1,y1,x2,y2], width=2, outline = 'red')"
      ],
      "execution_count": null,
      "outputs": []
    },
    {
      "cell_type": "code",
      "metadata": {
        "id": "XZMcRLeQPHq6"
      },
      "source": [
        "# Display the frame and its bounding boxes\n",
        "img"
      ],
      "execution_count": null,
      "outputs": []
    },
    {
      "cell_type": "markdown",
      "metadata": {
        "id": "79QnkE-UUySP"
      },
      "source": [
        "Congrats! You just created a dataset using sequences! 🎉"
      ]
    }
  ]
}