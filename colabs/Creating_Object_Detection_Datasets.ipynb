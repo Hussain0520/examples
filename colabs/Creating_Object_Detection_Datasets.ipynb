{
  "nbformat": 4,
  "nbformat_minor": 0,
  "metadata": {
    "colab": {
      "name": "Creating Object Detection Datasets",
      "provenance": [],
      "collapsed_sections": [],
      "include_colab_link": true
    },
    "kernelspec": {
      "name": "python3",
      "display_name": "Python 3"
    },
    "language_info": {
      "name": "python"
    }
  },
  "cells": [
    {
      "cell_type": "markdown",
      "metadata": {
        "id": "view-in-github",
        "colab_type": "text"
      },
      "source": [
        "<a href=\"https://colab.research.google.com/github/activeloopai/examples/blob/istranic-adding-colabs/colabs/Creating_Object_Detection_Datasets.ipynb\" target=\"_parent\"><img src=\"https://colab.research.google.com/assets/colab-badge.svg\" alt=\"Open In Colab\"/></a>"
      ]
    },
    {
      "cell_type": "markdown",
      "metadata": {
        "id": "lKU8kmSs65xv"
      },
      "source": [
        "# ***Creating Object Detection Datasets***\n",
        "\n"
      ]
    },
    {
      "cell_type": "markdown",
      "metadata": {
        "id": "3zK9b4yiMRzB"
      },
      "source": [
        "#### Object detection and image annotation using bounding boxes is one of the most common data types for Computer Vision datasets. This tutorial demonstrates how to convert an object detection dataset in YOLO format into Hub, and a similar process can be used for uploading object detection data in other formats."
      ]
    },
    {
      "cell_type": "markdown",
      "metadata": {
        "id": "3UseHLcoRIYz"
      },
      "source": [
        "## Install Hub"
      ]
    },
    {
      "cell_type": "code",
      "metadata": {
        "id": "l5mOffq5RN-T"
      },
      "source": [
        "from IPython.display import clear_output\n",
        "!pip3 install hub\n",
        "clear_output()"
      ],
      "execution_count": null,
      "outputs": []
    },
    {
      "cell_type": "code",
      "metadata": {
        "id": "SOkA83IsRWYo"
      },
      "source": [
        "# IMPORTANT - Please restart your Colab runtime after installing Hub!\n",
        "# This is a Colab-specific issue that prevents PIL from working properly.\n",
        "import os\n",
        "os.kill(os.getpid(), 9)"
      ],
      "execution_count": null,
      "outputs": []
    },
    {
      "cell_type": "markdown",
      "metadata": {
        "id": "7wGo53ndMTCB"
      },
      "source": [
        "## Create the Hub Dataset"
      ]
    },
    {
      "cell_type": "markdown",
      "metadata": {
        "id": "52h9xKujOJFs"
      },
      "source": [
        "The first step is to download the small dataset below called *animals object detection*."
      ]
    },
    {
      "cell_type": "code",
      "metadata": {
        "id": "V6m__biyt5I1"
      },
      "source": [
        "# Download dataset\n",
        "from IPython.display import clear_output\n",
        "!wget https://firebasestorage.googleapis.com/v0/b/gitbook-28427.appspot.com/o/assets%2F-M_MXHpa1Cq7qojD2u_r%2F-MiagkMwYEcI7NIOZgRQ%2F-MiaqvVXGkxDkTTxGR1K%2Fanimals_od.zip?alt=media&token=35854752-3b67-4248-a621-96b63daf00d3\n",
        "clear_output()"
      ],
      "execution_count": null,
      "outputs": []
    },
    {
      "cell_type": "code",
      "metadata": {
        "id": "_fNxNZIft5F-"
      },
      "source": [
        "# Unzip to './animals_od' folder\n",
        "!unzip -qq /content/assets%2F-M_MXHpa1Cq7qojD2u_r%2F-MiagkMwYEcI7NIOZgRQ%2F-MiaqvVXGkxDkTTxGR1K%2Fanimals_od.zip?alt=media"
      ],
      "execution_count": null,
      "outputs": []
    },
    {
      "cell_type": "markdown",
      "metadata": {
        "id": "bLh4uuIMuNwt"
      },
      "source": [
        "The dataset has the following folder structure:"
      ]
    },
    {
      "cell_type": "markdown",
      "metadata": {
        "id": "JHyrqNgNuRO2"
      },
      "source": [
        "animals_od\n",
        "- images\n",
        "  - image_1.jpg\n",
        "  - image_2.jpg\n",
        "  - image_3.jpg\n",
        "  - image_4.jpg\n",
        "- boxes\n",
        "  - image_1.txt\n",
        "  - image_2.txt\n",
        "  - image_3.txt\n",
        "  - image_4.txt\n",
        "  - classes.txt"
      ]
    },
    {
      "cell_type": "markdown",
      "metadata": {
        "id": "g_iOi_9NuXAI"
      },
      "source": [
        "Now that you have the data, let's **create a Hub Dataset** in the `./animals_od_hub` folder by running:"
      ]
    },
    {
      "cell_type": "code",
      "metadata": {
        "id": "qaZtpnpTOp-5"
      },
      "source": [
        "import hub\n",
        "from PIL import Image, ImageDraw\n",
        "import numpy as np\n",
        "import os\n",
        "\n",
        "ds = hub.empty('./animals_od_hub') # Create the dataset"
      ],
      "execution_count": null,
      "outputs": []
    },
    {
      "cell_type": "markdown",
      "metadata": {
        "id": "qNMOv3LPOyAd"
      },
      "source": [
        "Next, let's specify the folder paths containing the images and annotations in the dataset. In YOLO format, images and annotations are typically matched using a common filename such as `image -> filename.jpeg` and `annotation -> filename.txt` . It's also helpful to create a list of all of the image files and the class names contained in the dataset."
      ]
    },
    {
      "cell_type": "code",
      "metadata": {
        "id": "ZCjN0EKwO1Pu"
      },
      "source": [
        "img_folder = './animals_od/images'\n",
        "lbl_folder = './animals_od/boxes'\n",
        "\n",
        "# List of all images\n",
        "fn_imgs = os.listdir(img_folder)\n",
        "\n",
        "# List of all class names\n",
        "with open(os.path.join(lbl_folder, 'classes.txt'), 'r') as f:\n",
        "    class_names = f.read().splitlines()"
      ],
      "execution_count": null,
      "outputs": []
    },
    {
      "cell_type": "markdown",
      "metadata": {
        "id": "g4CPD4nmO3_S"
      },
      "source": [
        "Since annotations in YOLO are typically stored in text files, it's useful to write a helper function that parses the annotation file and returns numpy arrays with the bounding box coordinates and bounding box classes."
      ]
    },
    {
      "cell_type": "code",
      "metadata": {
        "id": "bRIDfYXNO7kg"
      },
      "source": [
        "def read_yolo_boxes(fn:str):\n",
        "    \"\"\"\n",
        "    Function reads a label.txt YOLO file and returns a numpy array of yolo_boxes \n",
        "    for the box geometry and yolo_labels for the corresponding box labels.\n",
        "    \"\"\"\n",
        "    \n",
        "    box_f = open(fn)\n",
        "    lines = box_f.read()\n",
        "    box_f.close()\n",
        "    \n",
        "    # Split each box into a separate lines\n",
        "    lines_split = lines.splitlines()\n",
        "    \n",
        "    yolo_boxes = np.zeros((len(lines_split),4))\n",
        "    yolo_labels = np.zeros(len(lines_split))\n",
        "    \n",
        "    # Go through each line and parse data\n",
        "    for l, line in enumerate(lines_split):\n",
        "        line_split = line.split()\n",
        "        yolo_boxes[l,:]=np.array((float(line_split[1]), float(line_split[2]), float(line_split[3]), float(line_split[4])))\n",
        "        yolo_labels[l]=int(line_split[0]) \n",
        "         \n",
        "    return yolo_boxes, yolo_labels"
      ],
      "execution_count": null,
      "outputs": []
    },
    {
      "cell_type": "markdown",
      "metadata": {
        "id": "WKvPUjxcUPvO"
      },
      "source": [
        "Finally, let's create the tensors and iterate through all the images in the dataset in order to populate the data in Hub. Boxes and their labels will be stored in separate tensors, and for a given sample, the first axis of the boxes array corresponds to the first-and-only axis of the labels array (i.e. if there are 3 boxes in an image, the labels array is 3x1 and the boxes array is 3x4)."
      ]
    },
    {
      "cell_type": "code",
      "metadata": {
        "id": "u2F4TXd0UEtH"
      },
      "source": [
        "with ds:\n",
        "    ds.create_tensor('images', htype='image', sample_compression = 'jpeg')\n",
        "    ds.create_tensor('labels', htype='class_label', class_names = class_names)\n",
        "    ds.create_tensor('boxes\", htype='bbox')\n",
        "\n",
        "    for fn_img in fn_imgs:\n",
        "\n",
        "        img_name = os.path.splitext(fn_img)[0]\n",
        "        fn_box = img_name+'.txt'\n",
        "\n",
        "        # Get the arrays for the bounding boxes and their classes\n",
        "        yolo_boxes, yolo_labels = read_yolo_boxes(os.path.join(lbl_folder,fn_box))\n",
        "        \n",
        "        # Append data to tensors\n",
        "        ds.images.append(hub.read(os.path.join(img_folder, fn_img)))\n",
        "        ds.labels.append(yolo_labels.astype(np.uint32))\n",
        "        ds.boxes.append(yolo_boxes.astype(np.float32))"
      ],
      "execution_count": null,
      "outputs": []
    },
    {
      "cell_type": "markdown",
      "metadata": {
        "id": "aYCI61o-O9CV"
      },
      "source": [
        "##Inspect the Hub Dataset"
      ]
    },
    {
      "cell_type": "markdown",
      "metadata": {
        "id": "pXkD-gLgO_7L"
      },
      "source": [
        "Let's check out the third sample from this dataset, which contains two bounding boxes."
      ]
    },
    {
      "cell_type": "code",
      "metadata": {
        "id": "PEPTKmCiPD-T"
      },
      "source": [
        "# Draw bounding boxes for the third image\n",
        "\n",
        "ind = 2\n",
        "img = Image.fromarray(ds.images[ind ].numpy())\n",
        "draw = ImageDraw.Draw(img)\n",
        "(w,h) = img.size\n",
        "boxes = ds.boxes[ind ].numpy()\n",
        "\n",
        "for b in range(boxes.shape[0]):\n",
        "    (xc,yc) = (int(boxes[b][0]*w), int(boxes[b][1]*h))\n",
        "    (x1,y1) = (int(xc-boxes[b][2]*w/2), int(yc-boxes[b][3]*h/2))\n",
        "    (x2,y2) = (int(xc+boxes[b][2]*w/2), int(yc+boxes[b][3]*h/2))\n",
        "    draw.rectangle([x1,y1,x2,y2], width=2)\n",
        "    draw.text((x1,y1), ds.labels.info.class_names[ds.labels[ind].numpy()[b]])"
      ],
      "execution_count": null,
      "outputs": []
    },
    {
      "cell_type": "code",
      "metadata": {
        "id": "XZMcRLeQPHq6"
      },
      "source": [
        "# Display the image and its bounding boxes\n",
        "img"
      ],
      "execution_count": null,
      "outputs": []
    },
    {
      "cell_type": "markdown",
      "metadata": {
        "id": "Bg8rUpSWPJoK"
      },
      "source": [
        "**Note:** For optimal object detection model performance, it is often important for datasets to contain images with no annotations (See the 4th sample in the dataset above). For that use case, in order to maintain equal length between the images, boxes, and labels tensors, users can upload empty numpy arrays as long as `len(sample.shape)` for an empty and non-empty sample is equal. Therefore, an empty bounding box can be added using `ds.boxes.append(np.zeros(0,4))` because `len(sample.shape) == 2`, just like for a bounding box with data."
      ]
    },
    {
      "cell_type": "markdown",
      "metadata": {
        "id": "79QnkE-UUySP"
      },
      "source": [
        "Congrats! You just created a beautiful object detection dataset! 🎉"
      ]
    }
  ]
}