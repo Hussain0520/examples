{
 "cells": [
  {
   "cell_type": "markdown",
   "metadata": {
    "id": "mC0gCXlAi8yE"
   },
   "source": [
    "# Installing Hub"
   ]
  },
  {
   "cell_type": "code",
   "execution_count": null,
   "metadata": {
    "colab": {
     "base_uri": "https://localhost:8080/"
    },
    "id": "u-xVVaAiiCAt",
    "outputId": "e616472d-d672-4a83-a8af-2f1279bde38a"
   },
   "outputs": [],
   "source": [
    "!pip3 install hub --quiet\n",
    "\n",
    "# Run below cells and restart the runtime\n",
    "# if you are running it in colab\n",
    "# import os\n",
    "# os.kill(os.getpid(), 9) "
   ]
  },
  {
   "cell_type": "markdown",
   "metadata": {
    "id": "FRrwjp8XjDUV"
   },
   "source": [
    "# Download raw dataset"
   ]
  },
  {
   "cell_type": "code",
   "execution_count": null,
   "metadata": {
    "id": "CLY2HM6djBc1"
   },
   "outputs": [],
   "source": [
    "from IPython.display import clear_output"
   ]
  },
  {
   "cell_type": "code",
   "execution_count": null,
   "metadata": {
    "id": "8l1NYRCQjXCd"
   },
   "outputs": [],
   "source": [
    "# Download Dataset here\n",
    "!wget https://www.cse.cuhk.edu.hk/leojia/projects/hsaliency/data/CSSD/images.zip\n",
    "!wget https://www.cse.cuhk.edu.hk/leojia/projects/hsaliency/data/CSSD/ground_truth_mask.zip\n",
    "    \n",
    "!unzip ground_truth_mask.zip \n",
    "!unzip images.zip\n",
    "\n",
    "clear_output()"
   ]
  },
  {
   "cell_type": "code",
   "execution_count": null,
   "metadata": {
    "id": "funZY-1Jjojg"
   },
   "outputs": [],
   "source": [
    "import numpy as np \n",
    "import os\n",
    "import time\n",
    "from tqdm import tqdm\n",
    "import cv2"
   ]
  },
  {
   "cell_type": "markdown",
   "metadata": {
    "id": "1hwvS1vSju5s"
   },
   "source": [
    "# Creating dataset on hub"
   ]
  },
  {
   "cell_type": "markdown",
   "metadata": {
    "id": "ettX_rwmf5fa"
   },
   "source": [
    "**Activeloop API** : https://docs.activeloop.ai/api-basics"
   ]
  },
  {
   "cell_type": "code",
   "execution_count": null,
   "metadata": {
    "cellView": "form",
    "colab": {
     "base_uri": "https://localhost:8080/"
    },
    "executionInfo": {
     "elapsed": 2838,
     "status": "ok",
     "timestamp": 1642684499234,
     "user": {
      "displayName": "Sai Nikhilesh Reddy",
      "photoUrl": "https://lh3.googleusercontent.com/a-/AOh14GhTXStT1Z7zWHNhGLNiNGZF2EiZKAd20-qiMdDd6Q=s64",
      "userId": "18205205582489075616"
     },
     "user_tz": -330
    },
    "id": "e_uTH7uVjRik",
    "outputId": "9a3162a4-500d-47fa-a09c-ead7492bb394"
   },
   "outputs": [],
   "source": [
    "import hub\n",
    "\n",
    "# Login to ActiveLoop\n",
    "\n",
    "%env BUGGER_OFF=True\n",
    "!activeloop login -u username -p password\n",
    "!activeloop reporting --off"
   ]
  },
  {
   "cell_type": "code",
   "execution_count": null,
   "metadata": {},
   "outputs": [],
   "source": [
    "image_path"
   ]
  },
  {
   "cell_type": "code",
   "execution_count": null,
   "metadata": {},
   "outputs": [],
   "source": [
    "cv2.imread(image_path).shape"
   ]
  },
  {
   "cell_type": "code",
   "execution_count": null,
   "metadata": {},
   "outputs": [],
   "source": [
    "cv2.imread(mask_path).shape"
   ]
  },
  {
   "cell_type": "code",
   "execution_count": null,
   "metadata": {},
   "outputs": [],
   "source": [
    "mask.shape"
   ]
  },
  {
   "cell_type": "code",
   "execution_count": null,
   "metadata": {
    "id": "5LXm8-8PoC0d"
   },
   "outputs": [],
   "source": [
    "# hubpath = './cssd-hub'\n",
    "hubpath = 'hub://activeloop/cssd'\n",
    "# hub.delete(hubpath, large_ok=True)\n",
    "ds = hub.dataset(hubpath)\n",
    "\n",
    "start = time.time()\n",
    "\n",
    "with ds:\n",
    "    ds.create_tensor('images', htype='image', sample_compression='jpg')\n",
    "    ds.create_tensor('masks', htype='binary_mask', sample_compression='lz4')\n",
    "    \n",
    "    for image in tqdm(os.listdir('images/')):\n",
    "        file = image.split('.')[0]\n",
    "        image_path = os.path.join('images', file+'.jpg')\n",
    "        mask_path = os.path.join('ground_truth_mask', file+'.png')\n",
    "        \n",
    "        img_pil = Image.open(mask_path).convert('L')\n",
    "        mask = np.array(img_pil, dtype='uint8')\n",
    "        m, n = mask.shape\n",
    "        mask = mask.reshape(m, n, 1)\n",
    "            \n",
    "        ds.append({\n",
    "            'images' : hub.read(image_path),\n",
    "            'masks' : mask.astype('bool')\n",
    "        }, skip_ok=True)\n",
    "        \n",
    "stop = time.time()\n",
    "print(f\"Time elapsed uploading : {stop-start}\")"
   ]
  },
  {
   "cell_type": "markdown",
   "metadata": {
    "id": "M-_xx4_jzADZ"
   },
   "source": [
    "# Testing dataset from hub"
   ]
  },
  {
   "cell_type": "code",
   "execution_count": null,
   "metadata": {
    "id": "nq80O6y0y_rq"
   },
   "outputs": [],
   "source": [
    "hubpath = 'hub://activeloop/cssd'\n",
    "ds = hub.load(hubpath)\n",
    "print(ds.tensors)"
   ]
  },
  {
   "cell_type": "code",
   "execution_count": null,
   "metadata": {},
   "outputs": [],
   "source": [
    "print(f\"Image Shape: {ds.images[0].shape}\")\n",
    "print(f\"Masks Shape: {ds.masks[0].shape}\")"
   ]
  }
 ],
 "metadata": {
  "colab": {
   "authorship_tag": "ABX9TyPRtRKYoZyINDugYEwpxgWl",
   "collapsed_sections": [
    "mC0gCXlAi8yE"
   ],
   "name": "ActiveloopTemplate.ipynb",
   "provenance": [
    {
     "file_id": "1NIomaSCaYU8ybW25iYdu4LPt6hk3EnWx",
     "timestamp": 1642685098551
    },
    {
     "file_id": "12DjUWV1eftkzHUGDv9WMdYN2wn3wKByu",
     "timestamp": 1640195333679
    }
   ]
  },
  "kernelspec": {
   "display_name": "Python 3 (ipykernel)",
   "language": "python",
   "name": "python3"
  },
  "language_info": {
   "codemirror_mode": {
    "name": "ipython",
    "version": 3
   },
   "file_extension": ".py",
   "mimetype": "text/x-python",
   "name": "python",
   "nbconvert_exporter": "python",
   "pygments_lexer": "ipython3",
   "version": "3.8.10"
  }
 },
 "nbformat": 4,
 "nbformat_minor": 4
}
